{
  "cells": [
    {
      "cell_type": "code",
      "execution_count": null,
      "metadata": {
        "id": "Dte5PTkLrHYT"
      },
      "outputs": [],
      "source": [
        "import numpy as np\n",
        "import pandas as pd\n",
        "import matplotlib.pyplot as plt\n",
        "import seaborn as sns"
      ],
      "id": "Dte5PTkLrHYT"
    },
    {
      "cell_type": "markdown",
      "source": [
        "This is project attemping to solve the yelp challenge, and the objective is to predict starts that user give based on user properties: https://www.yelp.com/dataset"
      ],
      "metadata": {
        "id": "kMHiMZtRTZ0u"
      },
      "id": "kMHiMZtRTZ0u"
    },
    {
      "cell_type": "code",
      "execution_count": null,
      "metadata": {
        "colab": {
          "base_uri": "https://localhost:8080/"
        },
        "id": "op02wkPWrHYU",
        "outputId": "f1c6633a-2111-4c4e-d323-937ed0785788"
      },
      "outputs": [
        {
          "output_type": "stream",
          "name": "stderr",
          "text": [
            "[nltk_data] Downloading package stopwords to /root/nltk_data...\n",
            "[nltk_data]   Unzipping corpora/stopwords.zip.\n"
          ]
        }
      ],
      "source": [
        "import nltk\n",
        "nltk.download('stopwords')\n",
        "from nltk.corpus import stopwords\n",
        "import string\n",
        "from wordcloud import WordCloud, STOPWORDS\n",
        "from textblob import TextBlob\n",
        "from sklearn.linear_model import LinearRegression\n",
        "from sklearn.linear_model import LinearRegression\n",
        "from sklearn.model_selection import train_test_split\n",
        "from sklearn.metrics import accuracy_score\n",
        "from sklearn import metrics\n",
        "from sklearn.ensemble import RandomForestClassifier"
      ],
      "id": "op02wkPWrHYU"
    },
    {
      "cell_type": "code",
      "execution_count": null,
      "metadata": {
        "colab": {
          "base_uri": "https://localhost:8080/",
          "height": 372
        },
        "id": "dUpvRMMIrHYV",
        "outputId": "2f28bbaa-b5e0-4c06-9877-1a4b0e688773"
      },
      "outputs": [
        {
          "output_type": "execute_result",
          "data": {
            "text/plain": [
              "                  User_id                  Bus_id  Star  Useful  Cool  Funny  \\\n",
              "0  4hBhtCSgoxkrFgHa4YAD-w  bbEXAEFr4RYHLlZ-HFssTA   5.0       0     0      0   \n",
              "1  JYYYKt6TdVA4ng9lLcXt_g  SZU9c8V2GuREDN5KgyHFJw   5.0       0     0      0   \n",
              "2  Uk3X2AypU8AqvcYEVf7s6Q  eL4lyE7LNoXEMvpcJ8WNVw   3.0       5     0      0   \n",
              "3  LcqNuhqaYt5ekKzaRirmIg  SZU9c8V2GuREDN5KgyHFJw   5.0       2     1      0   \n",
              "4  gasLVm0KRwrVhPGRcqATjw  CHh0ZFrQcsk4boOItr2Zuw   4.0       1     2      0   \n",
              "\n",
              "                                              Review State           City  \\\n",
              "0  Great burgers,fries and salad!  Burgers have a...    CA         Goleta   \n",
              "1  We were a bit weary about trying the Shellfish...    CA  Santa Barbara   \n",
              "2  This was a tough one!   On the merits of the w...    CA  Santa Barbara   \n",
              "3  I love trying fresh seafood on piers, wharfs a...    CA  Santa Barbara   \n",
              "4  I stopped in because I was hungry for some sna...    CA    Carpinteria   \n",
              "\n",
              "   Bus_Ave_Star  User_Review_count  User_Useful_count  User_Funny_count  \\\n",
              "0           4.0                922               1687               694   \n",
              "1           4.0                338                800               144   \n",
              "2           4.0                431               2126              1245   \n",
              "3           4.0                258                452               125   \n",
              "4           3.0               1638               2658               933   \n",
              "\n",
              "   User_Cool_count                                              Elite  \\\n",
              "0             1070                2015,2016,2017,2018,2019,20,20,2021   \n",
              "1              353  2012,2013,2014,2015,2016,2017,2018,2019,20,20,...   \n",
              "2             1476  2012,2013,2014,2015,2016,2017,2018,2019,20,20,...   \n",
              "3              183                                     2015,2016,2017   \n",
              "4             2297           2014,2015,2016,2017,2018,2019,20,20,2021   \n",
              "\n",
              "   User_Fans  Users_Ave_Star  \n",
              "0         51            4.20  \n",
              "1         30            4.12  \n",
              "2         76            4.05  \n",
              "3         37            3.99  \n",
              "4        105            3.79  "
            ],
            "text/html": [
              "\n",
              "  <div id=\"df-e0ef7c1f-66da-40c1-a2f4-187adc619654\">\n",
              "    <div class=\"colab-df-container\">\n",
              "      <div>\n",
              "<style scoped>\n",
              "    .dataframe tbody tr th:only-of-type {\n",
              "        vertical-align: middle;\n",
              "    }\n",
              "\n",
              "    .dataframe tbody tr th {\n",
              "        vertical-align: top;\n",
              "    }\n",
              "\n",
              "    .dataframe thead th {\n",
              "        text-align: right;\n",
              "    }\n",
              "</style>\n",
              "<table border=\"1\" class=\"dataframe\">\n",
              "  <thead>\n",
              "    <tr style=\"text-align: right;\">\n",
              "      <th></th>\n",
              "      <th>User_id</th>\n",
              "      <th>Bus_id</th>\n",
              "      <th>Star</th>\n",
              "      <th>Useful</th>\n",
              "      <th>Cool</th>\n",
              "      <th>Funny</th>\n",
              "      <th>Review</th>\n",
              "      <th>State</th>\n",
              "      <th>City</th>\n",
              "      <th>Bus_Ave_Star</th>\n",
              "      <th>User_Review_count</th>\n",
              "      <th>User_Useful_count</th>\n",
              "      <th>User_Funny_count</th>\n",
              "      <th>User_Cool_count</th>\n",
              "      <th>Elite</th>\n",
              "      <th>User_Fans</th>\n",
              "      <th>Users_Ave_Star</th>\n",
              "    </tr>\n",
              "  </thead>\n",
              "  <tbody>\n",
              "    <tr>\n",
              "      <th>0</th>\n",
              "      <td>4hBhtCSgoxkrFgHa4YAD-w</td>\n",
              "      <td>bbEXAEFr4RYHLlZ-HFssTA</td>\n",
              "      <td>5.0</td>\n",
              "      <td>0</td>\n",
              "      <td>0</td>\n",
              "      <td>0</td>\n",
              "      <td>Great burgers,fries and salad!  Burgers have a...</td>\n",
              "      <td>CA</td>\n",
              "      <td>Goleta</td>\n",
              "      <td>4.0</td>\n",
              "      <td>922</td>\n",
              "      <td>1687</td>\n",
              "      <td>694</td>\n",
              "      <td>1070</td>\n",
              "      <td>2015,2016,2017,2018,2019,20,20,2021</td>\n",
              "      <td>51</td>\n",
              "      <td>4.20</td>\n",
              "    </tr>\n",
              "    <tr>\n",
              "      <th>1</th>\n",
              "      <td>JYYYKt6TdVA4ng9lLcXt_g</td>\n",
              "      <td>SZU9c8V2GuREDN5KgyHFJw</td>\n",
              "      <td>5.0</td>\n",
              "      <td>0</td>\n",
              "      <td>0</td>\n",
              "      <td>0</td>\n",
              "      <td>We were a bit weary about trying the Shellfish...</td>\n",
              "      <td>CA</td>\n",
              "      <td>Santa Barbara</td>\n",
              "      <td>4.0</td>\n",
              "      <td>338</td>\n",
              "      <td>800</td>\n",
              "      <td>144</td>\n",
              "      <td>353</td>\n",
              "      <td>2012,2013,2014,2015,2016,2017,2018,2019,20,20,...</td>\n",
              "      <td>30</td>\n",
              "      <td>4.12</td>\n",
              "    </tr>\n",
              "    <tr>\n",
              "      <th>2</th>\n",
              "      <td>Uk3X2AypU8AqvcYEVf7s6Q</td>\n",
              "      <td>eL4lyE7LNoXEMvpcJ8WNVw</td>\n",
              "      <td>3.0</td>\n",
              "      <td>5</td>\n",
              "      <td>0</td>\n",
              "      <td>0</td>\n",
              "      <td>This was a tough one!   On the merits of the w...</td>\n",
              "      <td>CA</td>\n",
              "      <td>Santa Barbara</td>\n",
              "      <td>4.0</td>\n",
              "      <td>431</td>\n",
              "      <td>2126</td>\n",
              "      <td>1245</td>\n",
              "      <td>1476</td>\n",
              "      <td>2012,2013,2014,2015,2016,2017,2018,2019,20,20,...</td>\n",
              "      <td>76</td>\n",
              "      <td>4.05</td>\n",
              "    </tr>\n",
              "    <tr>\n",
              "      <th>3</th>\n",
              "      <td>LcqNuhqaYt5ekKzaRirmIg</td>\n",
              "      <td>SZU9c8V2GuREDN5KgyHFJw</td>\n",
              "      <td>5.0</td>\n",
              "      <td>2</td>\n",
              "      <td>1</td>\n",
              "      <td>0</td>\n",
              "      <td>I love trying fresh seafood on piers, wharfs a...</td>\n",
              "      <td>CA</td>\n",
              "      <td>Santa Barbara</td>\n",
              "      <td>4.0</td>\n",
              "      <td>258</td>\n",
              "      <td>452</td>\n",
              "      <td>125</td>\n",
              "      <td>183</td>\n",
              "      <td>2015,2016,2017</td>\n",
              "      <td>37</td>\n",
              "      <td>3.99</td>\n",
              "    </tr>\n",
              "    <tr>\n",
              "      <th>4</th>\n",
              "      <td>gasLVm0KRwrVhPGRcqATjw</td>\n",
              "      <td>CHh0ZFrQcsk4boOItr2Zuw</td>\n",
              "      <td>4.0</td>\n",
              "      <td>1</td>\n",
              "      <td>2</td>\n",
              "      <td>0</td>\n",
              "      <td>I stopped in because I was hungry for some sna...</td>\n",
              "      <td>CA</td>\n",
              "      <td>Carpinteria</td>\n",
              "      <td>3.0</td>\n",
              "      <td>1638</td>\n",
              "      <td>2658</td>\n",
              "      <td>933</td>\n",
              "      <td>2297</td>\n",
              "      <td>2014,2015,2016,2017,2018,2019,20,20,2021</td>\n",
              "      <td>105</td>\n",
              "      <td>3.79</td>\n",
              "    </tr>\n",
              "  </tbody>\n",
              "</table>\n",
              "</div>\n",
              "      <button class=\"colab-df-convert\" onclick=\"convertToInteractive('df-e0ef7c1f-66da-40c1-a2f4-187adc619654')\"\n",
              "              title=\"Convert this dataframe to an interactive table.\"\n",
              "              style=\"display:none;\">\n",
              "        \n",
              "  <svg xmlns=\"http://www.w3.org/2000/svg\" height=\"24px\"viewBox=\"0 0 24 24\"\n",
              "       width=\"24px\">\n",
              "    <path d=\"M0 0h24v24H0V0z\" fill=\"none\"/>\n",
              "    <path d=\"M18.56 5.44l.94 2.06.94-2.06 2.06-.94-2.06-.94-.94-2.06-.94 2.06-2.06.94zm-11 1L8.5 8.5l.94-2.06 2.06-.94-2.06-.94L8.5 2.5l-.94 2.06-2.06.94zm10 10l.94 2.06.94-2.06 2.06-.94-2.06-.94-.94-2.06-.94 2.06-2.06.94z\"/><path d=\"M17.41 7.96l-1.37-1.37c-.4-.4-.92-.59-1.43-.59-.52 0-1.04.2-1.43.59L10.3 9.45l-7.72 7.72c-.78.78-.78 2.05 0 2.83L4 21.41c.39.39.9.59 1.41.59.51 0 1.02-.2 1.41-.59l7.78-7.78 2.81-2.81c.8-.78.8-2.07 0-2.86zM5.41 20L4 18.59l7.72-7.72 1.47 1.35L5.41 20z\"/>\n",
              "  </svg>\n",
              "      </button>\n",
              "      \n",
              "  <style>\n",
              "    .colab-df-container {\n",
              "      display:flex;\n",
              "      flex-wrap:wrap;\n",
              "      gap: 12px;\n",
              "    }\n",
              "\n",
              "    .colab-df-convert {\n",
              "      background-color: #E8F0FE;\n",
              "      border: none;\n",
              "      border-radius: 50%;\n",
              "      cursor: pointer;\n",
              "      display: none;\n",
              "      fill: #1967D2;\n",
              "      height: 32px;\n",
              "      padding: 0 0 0 0;\n",
              "      width: 32px;\n",
              "    }\n",
              "\n",
              "    .colab-df-convert:hover {\n",
              "      background-color: #E2EBFA;\n",
              "      box-shadow: 0px 1px 2px rgba(60, 64, 67, 0.3), 0px 1px 3px 1px rgba(60, 64, 67, 0.15);\n",
              "      fill: #174EA6;\n",
              "    }\n",
              "\n",
              "    [theme=dark] .colab-df-convert {\n",
              "      background-color: #3B4455;\n",
              "      fill: #D2E3FC;\n",
              "    }\n",
              "\n",
              "    [theme=dark] .colab-df-convert:hover {\n",
              "      background-color: #434B5C;\n",
              "      box-shadow: 0px 1px 3px 1px rgba(0, 0, 0, 0.15);\n",
              "      filter: drop-shadow(0px 1px 2px rgba(0, 0, 0, 0.3));\n",
              "      fill: #FFFFFF;\n",
              "    }\n",
              "  </style>\n",
              "\n",
              "      <script>\n",
              "        const buttonEl =\n",
              "          document.querySelector('#df-e0ef7c1f-66da-40c1-a2f4-187adc619654 button.colab-df-convert');\n",
              "        buttonEl.style.display =\n",
              "          google.colab.kernel.accessAllowed ? 'block' : 'none';\n",
              "\n",
              "        async function convertToInteractive(key) {\n",
              "          const element = document.querySelector('#df-e0ef7c1f-66da-40c1-a2f4-187adc619654');\n",
              "          const dataTable =\n",
              "            await google.colab.kernel.invokeFunction('convertToInteractive',\n",
              "                                                     [key], {});\n",
              "          if (!dataTable) return;\n",
              "\n",
              "          const docLinkHtml = 'Like what you see? Visit the ' +\n",
              "            '<a target=\"_blank\" href=https://colab.research.google.com/notebooks/data_table.ipynb>data table notebook</a>'\n",
              "            + ' to learn more about interactive tables.';\n",
              "          element.innerHTML = '';\n",
              "          dataTable['output_type'] = 'display_data';\n",
              "          await google.colab.output.renderOutput(dataTable, element);\n",
              "          const docLink = document.createElement('div');\n",
              "          docLink.innerHTML = docLinkHtml;\n",
              "          element.appendChild(docLink);\n",
              "        }\n",
              "      </script>\n",
              "    </div>\n",
              "  </div>\n",
              "  "
            ]
          },
          "metadata": {},
          "execution_count": 3
        }
      ],
      "source": [
        "data=pd.read_csv(\"Data_Final.csv\")\n",
        "data.drop(data.columns[[0]], axis=1, inplace=True)\n",
        "data.head(5)"
      ],
      "id": "dUpvRMMIrHYV"
    },
    {
      "cell_type": "code",
      "execution_count": null,
      "metadata": {
        "id": "UD87TE30rHYW"
      },
      "outputs": [],
      "source": [],
      "id": "UD87TE30rHYW"
    },
    {
      "cell_type": "code",
      "execution_count": null,
      "metadata": {
        "id": "XXPgcwu1rHYW",
        "colab": {
          "base_uri": "https://localhost:8080/",
          "height": 164
        },
        "outputId": "77b1c611-b5a1-4890-f673-cc50ab8a61e3"
      },
      "outputs": [
        {
          "output_type": "error",
          "ename": "NameError",
          "evalue": "ignored",
          "traceback": [
            "\u001b[0;31m---------------------------------------------------------------------------\u001b[0m",
            "\u001b[0;31mNameError\u001b[0m                                 Traceback (most recent call last)",
            "\u001b[0;32m<ipython-input-11-047ed65ff157>\u001b[0m in \u001b[0;36m<module>\u001b[0;34m\u001b[0m\n\u001b[0;32m----> 1\u001b[0;31m \u001b[0mdata\u001b[0m\u001b[0;34m.\u001b[0m\u001b[0mshape\u001b[0m\u001b[0;34m\u001b[0m\u001b[0;34m\u001b[0m\u001b[0m\n\u001b[0m",
            "\u001b[0;31mNameError\u001b[0m: name 'data' is not defined"
          ]
        }
      ],
      "source": [
        "data.shape"
      ],
      "id": "XXPgcwu1rHYW"
    },
    {
      "cell_type": "code",
      "execution_count": null,
      "metadata": {
        "id": "TucLQwmMrHYW",
        "colab": {
          "base_uri": "https://localhost:8080/",
          "height": 164
        },
        "outputId": "e9db9eaf-bca7-4c87-967b-45484a07005a"
      },
      "outputs": [
        {
          "output_type": "error",
          "ename": "NameError",
          "evalue": "ignored",
          "traceback": [
            "\u001b[0;31m---------------------------------------------------------------------------\u001b[0m",
            "\u001b[0;31mNameError\u001b[0m                                 Traceback (most recent call last)",
            "\u001b[0;32m<ipython-input-12-c01832a9a0e8>\u001b[0m in \u001b[0;36m<module>\u001b[0;34m\u001b[0m\n\u001b[0;32m----> 1\u001b[0;31m \u001b[0msns\u001b[0m\u001b[0;34m.\u001b[0m\u001b[0mcountplot\u001b[0m\u001b[0;34m(\u001b[0m\u001b[0mdata\u001b[0m\u001b[0;34m.\u001b[0m\u001b[0mBus_Ave_Star\u001b[0m\u001b[0;34m)\u001b[0m\u001b[0;34m\u001b[0m\u001b[0;34m\u001b[0m\u001b[0m\n\u001b[0m",
            "\u001b[0;31mNameError\u001b[0m: name 'data' is not defined"
          ]
        }
      ],
      "source": [
        "sns.countplot(data.Bus_Ave_Star)"
      ],
      "id": "TucLQwmMrHYW"
    },
    {
      "cell_type": "code",
      "execution_count": null,
      "metadata": {
        "id": "Mc0DyZevrHYX"
      },
      "outputs": [],
      "source": [
        "X=data['Star'].groupby(data['City'])\n",
        "print(X.mean().sort_values(ascending=False))\n",
        "X.mean().sort_values(ascending=True).plot(kind='barh',figsize=(12, 10))"
      ],
      "id": "Mc0DyZevrHYX"
    },
    {
      "cell_type": "code",
      "execution_count": null,
      "metadata": {
        "id": "dIdQbGmlrHYX"
      },
      "outputs": [],
      "source": [
        "X=data['User_Review_count'].groupby(data['City'])\n",
        "print(X.mean().sort_values(ascending=False))\n",
        "X.mean().sort_values(ascending=True).plot(kind='barh',figsize=(12, 10))"
      ],
      "id": "dIdQbGmlrHYX"
    },
    {
      "cell_type": "code",
      "execution_count": null,
      "metadata": {
        "id": "DHUjlnFArHYY"
      },
      "outputs": [],
      "source": [
        "X=data['User_Review_count'].groupby(data['Bus_id'])\n",
        "print(X.sum().sort_values(ascending=False)[0:20])\n",
        "X.sum().sort_values(ascending=True)[len(X)-20:len(X)].plot(kind='barh',figsize=(10, 8),color=\"green\")"
      ],
      "id": "DHUjlnFArHYY"
    },
    {
      "cell_type": "code",
      "execution_count": null,
      "metadata": {
        "id": "Sdyhn-9wrHYY"
      },
      "outputs": [],
      "source": [
        "X=data['Bus_Ave_Star'].groupby(data['Bus_id'])\n",
        "print(X.mean().sort_values(ascending=False))"
      ],
      "id": "Sdyhn-9wrHYY"
    },
    {
      "cell_type": "markdown",
      "metadata": {
        "id": "oDetAPltrHYZ"
      },
      "source": [
        "## **Text Analysis**"
      ],
      "id": "oDetAPltrHYZ"
    },
    {
      "cell_type": "code",
      "execution_count": null,
      "metadata": {
        "id": "RXUbQKlgrHYa"
      },
      "outputs": [],
      "source": [
        "review_df = data[['Star','Review']]\n",
        "review_df.head()"
      ],
      "id": "RXUbQKlgrHYa"
    },
    {
      "cell_type": "code",
      "execution_count": null,
      "metadata": {
        "id": "zapnCeHXrHYa"
      },
      "outputs": [],
      "source": [
        "review_df.shape"
      ],
      "id": "zapnCeHXrHYa"
    },
    {
      "cell_type": "code",
      "execution_count": null,
      "metadata": {
        "id": "hl1zQXRhrHYb"
      },
      "outputs": [],
      "source": [
        "def remove_punc_stopword(text):\n",
        "    \"\"\"\n",
        "    Takes in a string of text, then performs the following:\n",
        "    1. Remove all punctuation\n",
        "    2. Remove all stopwords\n",
        "    3. Returns a list of the cleaned text\n",
        "    \"\"\"\n",
        "    remove_punc = [word for word in text if word not in string.punctuation]\n",
        "    remove_punc = ''.join(remove_punc)\n",
        "    return [word.lower() for word in remove_punc.split() if word.lower() not in stopwords.words('english')]"
      ],
      "id": "hl1zQXRhrHYb"
    },
    {
      "cell_type": "code",
      "execution_count": null,
      "metadata": {
        "id": "OG42j7--rHYb"
      },
      "outputs": [],
      "source": [
        "#don't run this yet\n",
        "review_df_new = review_df.copy()\n",
        "review_df_new['Review'] = review_df_new['Review'].apply(remove_punc_stopword)\n",
        "review_df_new.count()"
      ],
      "id": "OG42j7--rHYb"
    },
    {
      "cell_type": "code",
      "execution_count": null,
      "metadata": {
        "id": "L57hwL3SrHYc"
      },
      "outputs": [],
      "source": [
        "review_df_new = review_df.copy()\n",
        "review_df_new_test = review_df_new.iloc[0:1000,]"
      ],
      "id": "L57hwL3SrHYc"
    },
    {
      "cell_type": "code",
      "execution_count": null,
      "metadata": {
        "id": "fk5do-oorHYc"
      },
      "outputs": [],
      "source": [
        "review_df_new_test['Review'] = review_df_new_test['Review'].apply(remove_punc_stopword)\n",
        "review_df_new_test.count()"
      ],
      "id": "fk5do-oorHYc"
    },
    {
      "cell_type": "code",
      "execution_count": null,
      "metadata": {
        "id": "zMzMh6btrHYd"
      },
      "outputs": [],
      "source": [
        "review_df_new_test.head()"
      ],
      "id": "zMzMh6btrHYd"
    },
    {
      "cell_type": "code",
      "execution_count": null,
      "metadata": {
        "id": "SwYiUo_prHYd"
      },
      "outputs": [],
      "source": [
        "review_df_new_test1 = review_df_new_test['Review'].values\n",
        "\n",
        "wordcloud = WordCloud(\n",
        "    width = 3000,\n",
        "    height = 2000,\n",
        "    background_color = 'black',\n",
        "    stopwords = STOPWORDS).generate(str(review_df_new_test1))\n",
        "\n",
        "fig = plt.figure(\n",
        "    figsize = (10, 7),\n",
        "    facecolor = 'k',\n",
        "    edgecolor = 'k')\n",
        "plt.imshow(wordcloud, interpolation = 'bilinear')\n",
        "plt.axis('off')\n",
        "plt.tight_layout(pad=0)\n"
      ],
      "id": "SwYiUo_prHYd"
    },
    {
      "cell_type": "code",
      "execution_count": null,
      "metadata": {
        "id": "aPfPKmidrHYd"
      },
      "outputs": [],
      "source": [
        "type(review_df_new_test)"
      ],
      "id": "aPfPKmidrHYd"
    },
    {
      "cell_type": "code",
      "execution_count": null,
      "metadata": {
        "id": "zN1EkbcFrHYe"
      },
      "outputs": [],
      "source": [
        "test = ' '.join(review_df_new_test.iloc[0,1])"
      ],
      "id": "zN1EkbcFrHYe"
    },
    {
      "cell_type": "code",
      "execution_count": null,
      "metadata": {
        "id": "O8snJpuVrHYe"
      },
      "outputs": [],
      "source": [
        "TextBlob(test).sentiment.polarity"
      ],
      "id": "O8snJpuVrHYe"
    },
    {
      "cell_type": "code",
      "execution_count": null,
      "metadata": {
        "id": "LAJNRNutrHYe"
      },
      "outputs": [],
      "source": [
        "review_df_new_test['Review'] = review_df_new_test['Review'].str.join(' ')"
      ],
      "id": "LAJNRNutrHYe"
    },
    {
      "cell_type": "code",
      "execution_count": null,
      "metadata": {
        "id": "DDP3KlFNrHYe"
      },
      "outputs": [],
      "source": [
        "def compute_polarity(text):\n",
        "    return TextBlob(text).sentiment.polarity\n",
        "def compute_subjectivity(text):\n",
        "    return TextBlob(text).sentiment.subjectivity"
      ],
      "id": "DDP3KlFNrHYe"
    },
    {
      "cell_type": "code",
      "execution_count": null,
      "metadata": {
        "id": "b8b1mjqzrHYf"
      },
      "outputs": [],
      "source": [
        "review_df_new_test['Review_polarity'] = review_df_new_test['Review'].apply(compute_polarity)"
      ],
      "id": "b8b1mjqzrHYf"
    },
    {
      "cell_type": "code",
      "execution_count": null,
      "metadata": {
        "id": "GHjP_8UCrHYf"
      },
      "outputs": [],
      "source": [
        "review_df_new_test['Review_subjectivity'] = review_df_new_test['Review'].apply(compute_subjectivity)"
      ],
      "id": "GHjP_8UCrHYf"
    },
    {
      "cell_type": "code",
      "execution_count": null,
      "metadata": {
        "id": "2yXDNjQTrHYf"
      },
      "outputs": [],
      "source": [
        "review_df_new_test"
      ],
      "id": "2yXDNjQTrHYf"
    },
    {
      "cell_type": "code",
      "execution_count": null,
      "metadata": {
        "id": "x3jQFmfgrHYf"
      },
      "outputs": [],
      "source": [
        "Y = pd.DataFrame(review_df_new_test[\"Star\"].values)\n",
        "X = pd.DataFrame(review_df_new_test[\"Review_polarity\"].values)\n",
        "x_train,x_test,y_train,y_test=train_test_split(X,Y,test_size=0.2)"
      ],
      "id": "x3jQFmfgrHYf"
    },
    {
      "cell_type": "code",
      "execution_count": null,
      "metadata": {
        "id": "jxXfBSo-rHYg"
      },
      "outputs": [],
      "source": [
        "reg = LinearRegression().fit(x_train, y_train)\n",
        "y_pred = reg.predict(x_test)"
      ],
      "id": "jxXfBSo-rHYg"
    },
    {
      "cell_type": "code",
      "execution_count": null,
      "metadata": {
        "id": "fTQCprQOrHYg"
      },
      "outputs": [],
      "source": [
        "reg.score(x_test,y_test)"
      ],
      "id": "fTQCprQOrHYg"
    },
    {
      "cell_type": "code",
      "execution_count": null,
      "metadata": {
        "id": "FAkY70URrHYg"
      },
      "outputs": [],
      "source": [
        "type(x_train)"
      ],
      "id": "FAkY70URrHYg"
    },
    {
      "cell_type": "markdown",
      "source": [
        "On the Entire Dataset (long runtime)"
      ],
      "metadata": {
        "id": "Fi7-iKMcsJuX"
      },
      "id": "Fi7-iKMcsJuX"
    },
    {
      "cell_type": "code",
      "execution_count": null,
      "metadata": {
        "id": "LeKBizZyrHYg"
      },
      "outputs": [],
      "source": [
        "data_test = data.copy()"
      ],
      "id": "LeKBizZyrHYg"
    },
    {
      "cell_type": "code",
      "execution_count": null,
      "metadata": {
        "id": "bwluLV98rHYh"
      },
      "outputs": [],
      "source": [
        "data_test['Review'] = data_test['Review'].apply(remove_punc_stopword)"
      ],
      "id": "bwluLV98rHYh"
    },
    {
      "cell_type": "code",
      "execution_count": null,
      "metadata": {
        "id": "wILt0vfJrHYh"
      },
      "outputs": [],
      "source": [
        "data_test['Review'] = data_test['Review'].str.join(' ')\n",
        "data_test['Review_polarity'] = data_test['Review'].apply(compute_polarity)\n",
        "data_test['Review_subjectivity'] = data_test['Review'].apply(compute_subjectivity)"
      ],
      "id": "wILt0vfJrHYh"
    },
    {
      "cell_type": "code",
      "execution_count": null,
      "metadata": {
        "id": "jtzTyZdqrHYh"
      },
      "outputs": [],
      "source": [
        "X = data_test[['Useful','Cool','Funny','Bus_Ave_Star','User_Review_count','User_Useful_count','User_Funny_count','User_Cool_count','User_Fans','Users_Ave_Star','Review_polarity','Review_subjectivity']]\n",
        "Y = data_test['Star']\n",
        "x_train,x_test,y_train,y_test=train_test_split(X,Y,test_size=0.2) #Test to Train ratio is 2:8"
      ],
      "id": "jtzTyZdqrHYh"
    },
    {
      "cell_type": "code",
      "execution_count": null,
      "metadata": {
        "id": "YcfQRpGhrHYh"
      },
      "outputs": [],
      "source": [
        "x_train"
      ],
      "id": "YcfQRpGhrHYh"
    },
    {
      "cell_type": "code",
      "execution_count": null,
      "metadata": {
        "id": "pF4xLO2vrHYh"
      },
      "outputs": [],
      "source": [
        "rf = RandomForestClassifier()\n",
        "rf.fit(x_train, y_train)\n",
        "importances = rf.feature_importances_"
      ],
      "id": "pF4xLO2vrHYh"
    },
    {
      "cell_type": "code",
      "execution_count": null,
      "metadata": {
        "id": "YmatQ4FOrHYi"
      },
      "outputs": [],
      "source": [
        "y_pred = rf.predict(x_test)\n",
        "print('random forest accuracy:', accuracy_score(y_test, y_pred))"
      ],
      "id": "YmatQ4FOrHYi"
    },
    {
      "cell_type": "code",
      "execution_count": null,
      "metadata": {
        "id": "aeJ3-AfOrHYi"
      },
      "outputs": [],
      "source": [
        "sorted_indices = np.argsort(importances)[::-1]\n",
        "\n",
        "feat_labels = X.columns\n",
        "\n",
        "for f in range(x_train.shape[1]):\n",
        "    print(\"%2d) %-*s %f\" % (f + 1, 30,\n",
        "                            feat_labels[sorted_indices[f]],\n",
        "                            importances[sorted_indices[f]]))"
      ],
      "id": "aeJ3-AfOrHYi"
    },
    {
      "cell_type": "markdown",
      "metadata": {
        "id": "hRrDJ1dLrHYi"
      },
      "source": [
        "Let us try playing around with the stars, let starts > 3 be 1 otherwise 0."
      ],
      "id": "hRrDJ1dLrHYi"
    },
    {
      "cell_type": "code",
      "execution_count": null,
      "metadata": {
        "id": "v7DKKURmrHYi"
      },
      "outputs": [],
      "source": [
        "def label(text):\n",
        "    if text > 3:\n",
        "        return 1\n",
        "    else:\n",
        "        return 0\n"
      ],
      "id": "v7DKKURmrHYi"
    },
    {
      "cell_type": "code",
      "execution_count": null,
      "metadata": {
        "id": "7FLWz7zbrHYj"
      },
      "outputs": [],
      "source": [
        "review_df_new_test['label'] = review_df_new_test['Star'].apply(label)"
      ],
      "id": "7FLWz7zbrHYj"
    },
    {
      "cell_type": "code",
      "execution_count": null,
      "metadata": {
        "id": "PVthyauDrHYj"
      },
      "outputs": [],
      "source": [
        "review_df_new_test"
      ],
      "id": "PVthyauDrHYj"
    },
    {
      "cell_type": "code",
      "execution_count": null,
      "metadata": {
        "id": "SR8m5QvmrHYj"
      },
      "outputs": [],
      "source": [
        "def compute_polarity(text):\n",
        "    return TextBlob(text).sentiment.polarity\n",
        "def compute_subjectivity(text):\n",
        "    return TextBlob(text).sentiment.subjectivity"
      ],
      "id": "SR8m5QvmrHYj"
    },
    {
      "cell_type": "code",
      "execution_count": null,
      "metadata": {
        "id": "tWTsXV3arHYj"
      },
      "outputs": [],
      "source": [
        "review_df_new_test['Review'] = review_df_new_test['Review'].str.join(' ')\n",
        "review_df_new_test['Review_polarity'] = review_df_new_test['Review'].apply(compute_polarity)\n",
        "review_df_new_test['Review_subjectivity'] = review_df_new_test['Review'].apply(compute_subjectivity)"
      ],
      "id": "tWTsXV3arHYj"
    },
    {
      "cell_type": "code",
      "execution_count": null,
      "metadata": {
        "id": "4IYslEUKrHYk"
      },
      "outputs": [],
      "source": [
        "review_df_new_test"
      ],
      "id": "4IYslEUKrHYk"
    },
    {
      "cell_type": "code",
      "execution_count": null,
      "metadata": {
        "id": "URRbnj1PrHYk"
      },
      "outputs": [],
      "source": [
        "X = review_df_new_test[['Review_polarity','Review_subjectivity']]\n",
        "Y = review_df_new_test['label']\n",
        "x_train,x_test,y_train,y_test=train_test_split(X,Y,test_size=0.2) #Test to Train ratio is 2:8"
      ],
      "id": "URRbnj1PrHYk"
    },
    {
      "cell_type": "code",
      "execution_count": null,
      "metadata": {
        "id": "ZvD7VsUprHYk"
      },
      "outputs": [],
      "source": [
        "rf = RandomForestClassifier()\n",
        "rf.fit(x_train, y_train)\n",
        "importances = rf.feature_importances_"
      ],
      "id": "ZvD7VsUprHYk"
    },
    {
      "cell_type": "code",
      "execution_count": null,
      "metadata": {
        "id": "9qEQ8FVLrHYk"
      },
      "outputs": [],
      "source": [
        "y_pred = rf.predict(x_test)\n",
        "print('random forest accuracy:', accuracy_score(y_test, y_pred))"
      ],
      "id": "9qEQ8FVLrHYk"
    },
    {
      "cell_type": "code",
      "execution_count": null,
      "metadata": {
        "id": "5_kSe2UIrHYl"
      },
      "outputs": [],
      "source": [],
      "id": "5_kSe2UIrHYl"
    },
    {
      "cell_type": "markdown",
      "source": [
        "Change stars to 0-1 label: on the entire dataset (long runtime)"
      ],
      "metadata": {
        "id": "I0v4Tf4QsWbH"
      },
      "id": "I0v4Tf4QsWbH"
    },
    {
      "cell_type": "code",
      "source": [
        "def compute_polarity(text):\n",
        "    return TextBlob(text).sentiment.polarity\n",
        "def compute_subjectivity(text):\n",
        "    return TextBlob(text).sentiment.subjectivity\n",
        "def label(text):\n",
        "    if text > 3:\n",
        "        return 1\n",
        "    else:\n",
        "        return 0\n"
      ],
      "metadata": {
        "id": "FKugejUGsj5a"
      },
      "id": "FKugejUGsj5a",
      "execution_count": null,
      "outputs": []
    },
    {
      "cell_type": "code",
      "source": [
        "data_test = data.copy()\n",
        "data_test['Review'] = data_test['Review'].apply(remove_punc_stopword)\n",
        "data_test['Review'] = data_test['Review'].str.join(' ')\n",
        "data_test['Review_polarity'] = data_test['Review'].apply(compute_polarity)\n",
        "data_test['Review_subjectivity'] = data_test['Review'].apply(compute_subjectivity)\n",
        "data_test['label'] = data_test['Star'].apply(label)"
      ],
      "metadata": {
        "id": "4KVLrv3BsZYY"
      },
      "id": "4KVLrv3BsZYY",
      "execution_count": null,
      "outputs": []
    },
    {
      "cell_type": "code",
      "source": [
        "X = data_test[['Useful','Cool','Funny','Bus_Ave_Star','User_Review_count','User_Useful_count','User_Funny_count','User_Cool_count','User_Fans','Users_Ave_Star','Review_polarity','Review_subjectivity']]\n",
        "Y = data_test['label']\n",
        "x_train,x_test,y_train,y_test=train_test_split(X,Y,test_size=0.2)"
      ],
      "metadata": {
        "id": "gTNscwEOtCK7"
      },
      "id": "gTNscwEOtCK7",
      "execution_count": null,
      "outputs": []
    },
    {
      "cell_type": "code",
      "source": [
        "rf = RandomForestClassifier()\n",
        "rf.fit(x_train, y_train)\n",
        "importances = rf.feature_importances_"
      ],
      "metadata": {
        "id": "uW0Lq5o-tQZj"
      },
      "id": "uW0Lq5o-tQZj",
      "execution_count": null,
      "outputs": []
    },
    {
      "cell_type": "code",
      "source": [
        "y_pred = rf.predict(x_test)\n",
        "print('random forest accuracy:', accuracy_score(y_test, y_pred))"
      ],
      "metadata": {
        "id": "Y6fuZJAftSgw"
      },
      "id": "Y6fuZJAftSgw",
      "execution_count": null,
      "outputs": []
    },
    {
      "cell_type": "markdown",
      "source": [
        "# Try LSTM"
      ],
      "metadata": {
        "id": "jkB7797G06u8"
      },
      "id": "jkB7797G06u8"
    },
    {
      "cell_type": "markdown",
      "source": [
        "Prediction of stars not label"
      ],
      "metadata": {
        "id": "m83EWjaCW6o_"
      },
      "id": "m83EWjaCW6o_"
    },
    {
      "cell_type": "code",
      "source": [
        "import keras\n",
        "from keras.preprocessing.text import Tokenizer\n",
        "from keras.models import Sequential\n",
        "from keras.layers import LSTM\n",
        "from keras.layers import Embedding, Conv1D,MaxPooling1D, Flatten, Dense,Dropout,LSTM,Bidirectional\n",
        "from keras.optimizers import RMSprop\n",
        "from keras_preprocessing.sequence import pad_sequences"
      ],
      "metadata": {
        "id": "-TsqmzJJ1Zzu"
      },
      "id": "-TsqmzJJ1Zzu",
      "execution_count": null,
      "outputs": []
    },
    {
      "cell_type": "code",
      "source": [
        "# cut reviews after 200 words\n",
        "maxlen = 200\n",
        "# Number of words to consider as features\n",
        "# restrict the yelp reviews to the top 10000 most common words\n",
        "max_words = 10000"
      ],
      "metadata": {
        "id": "-GM5jNoCb772"
      },
      "id": "-GM5jNoCb772",
      "execution_count": null,
      "outputs": []
    },
    {
      "cell_type": "code",
      "source": [
        "def remove_punc_stopword(text):\n",
        "    \"\"\"\n",
        "    Takes in a string of text, then performs the following:\n",
        "    1. Remove all punctuation\n",
        "    2. Remove all stopwords\n",
        "    3. Returns a list of the cleaned text\n",
        "    \"\"\"\n",
        "    remove_punc = [word for word in text if word not in string.punctuation]\n",
        "    remove_punc = ''.join(remove_punc)\n",
        "    return [word.lower() for word in remove_punc.split() if word.lower() not in stopwords.words('english')]\n",
        "def label(text):\n",
        "    if text > 3:\n",
        "        return 1\n",
        "    else:\n",
        "        return 0"
      ],
      "metadata": {
        "id": "xjceAv-kSy6W"
      },
      "id": "xjceAv-kSy6W",
      "execution_count": null,
      "outputs": []
    },
    {
      "cell_type": "code",
      "source": [
        "data_ready = data.copy()\n",
        "data_ready = data_ready.iloc[0:1000,]\n",
        "data_ready['review_cleans'] = data_ready['Review'].apply(remove_punc_stopword)\n",
        "data_ready['Review'] = data_ready['review_cleans'].str.join(' ')\n",
        "sentences = [item for item in data_ready['Review']]\n",
        "data_ready['label'] = data_ready['Star'].apply(label)"
      ],
      "metadata": {
        "id": "wRUS0eLz2jT8"
      },
      "id": "wRUS0eLz2jT8",
      "execution_count": null,
      "outputs": []
    },
    {
      "cell_type": "code",
      "source": [
        "# create a tokenizer and it will ignore all except the 10000 most-common words\n",
        "tokenizer = Tokenizer(num_words = max_words)\n",
        "# use tokenizer to calculate the frequency of each word in dataset.\n",
        "tokenizer.fit_on_texts(sentences)\n",
        "# convert all of reviews to lists of integers\n",
        "sequences = tokenizer.texts_to_sequences(sentences)\n",
        "print(len(sequences[1]))\n",
        "print(len(sequences[2]))\n",
        "\n",
        "\n",
        "# use pad_sequence to make traning samples the same size, fill with zeros\n",
        "data_input = pad_sequences(sequences, maxlen = maxlen)\n",
        "labels = np.asarray(sentences)\n"
      ],
      "metadata": {
        "colab": {
          "base_uri": "https://localhost:8080/"
        },
        "id": "bWaGMak_cM-h",
        "outputId": "ec02e5ef-02cd-4dd5-a9c8-bddfdd560de5"
      },
      "id": "bWaGMak_cM-h",
      "execution_count": null,
      "outputs": [
        {
          "output_type": "stream",
          "name": "stdout",
          "text": [
            "169\n",
            "129\n"
          ]
        }
      ]
    },
    {
      "cell_type": "code",
      "source": [
        "data_input.shape"
      ],
      "metadata": {
        "colab": {
          "base_uri": "https://localhost:8080/"
        },
        "id": "kQ72EqTscPHA",
        "outputId": "23555cbd-2820-45c7-8da1-803732960617"
      },
      "id": "kQ72EqTscPHA",
      "execution_count": null,
      "outputs": [
        {
          "output_type": "execute_result",
          "data": {
            "text/plain": [
              "(1000, 200)"
            ]
          },
          "metadata": {},
          "execution_count": 45
        }
      ]
    },
    {
      "cell_type": "code",
      "source": [
        "labels.shape"
      ],
      "metadata": {
        "colab": {
          "base_uri": "https://localhost:8080/"
        },
        "id": "cwrfQua2gX9D",
        "outputId": "0ec5234b-f7bd-4510-d033-bd50cc8f6549"
      },
      "id": "cwrfQua2gX9D",
      "execution_count": null,
      "outputs": [
        {
          "output_type": "execute_result",
          "data": {
            "text/plain": [
              "(1000,)"
            ]
          },
          "metadata": {},
          "execution_count": 49
        }
      ]
    },
    {
      "cell_type": "code",
      "source": [
        "data_ready"
      ],
      "metadata": {
        "id": "0BJteb8x4iyS",
        "colab": {
          "base_uri": "https://localhost:8080/",
          "height": 1000
        },
        "outputId": "c8afa592-f78b-4138-8ac0-5cfc1c7e837a"
      },
      "id": "0BJteb8x4iyS",
      "execution_count": null,
      "outputs": [
        {
          "output_type": "execute_result",
          "data": {
            "text/plain": [
              "                    User_id                  Bus_id  Star  Useful  Cool  \\\n",
              "0    4hBhtCSgoxkrFgHa4YAD-w  bbEXAEFr4RYHLlZ-HFssTA   5.0       0     0   \n",
              "1    JYYYKt6TdVA4ng9lLcXt_g  SZU9c8V2GuREDN5KgyHFJw   5.0       0     0   \n",
              "2    Uk3X2AypU8AqvcYEVf7s6Q  eL4lyE7LNoXEMvpcJ8WNVw   3.0       5     0   \n",
              "3    LcqNuhqaYt5ekKzaRirmIg  SZU9c8V2GuREDN5KgyHFJw   5.0       2     1   \n",
              "4    gasLVm0KRwrVhPGRcqATjw  CHh0ZFrQcsk4boOItr2Zuw   4.0       1     2   \n",
              "..                      ...                     ...   ...     ...   ...   \n",
              "995  JI1JXrQZG0IFzViBQVQnmg  SZU9c8V2GuREDN5KgyHFJw   3.0       0     0   \n",
              "996  W5D-vYYIHCEb1305Jo3wyA  LqY3NrBE0trSnDj87KAn3A   3.0       3     0   \n",
              "997  S7qkQvTi3P8F5t445uZSaA  eL4lyE7LNoXEMvpcJ8WNVw   4.0       0     0   \n",
              "998  IkLdv0dFGfRJrtFVJYJnLg  CYwC5OjwCN6ib_AQDxi3Ow   3.0       3     2   \n",
              "999  u7dxmiH0hJvfkAwDMT5MgQ  CWdCNIJU4Kh480NV9dgQjw   4.0       1     1   \n",
              "\n",
              "     Funny                                             Review State  \\\n",
              "0        0  great burgersfries salad burgers hint salt pep...    CA   \n",
              "1        0  bit weary trying shellfish company wharf often...    CA   \n",
              "2        0  tough one merits wine fairly average understan...    CA   \n",
              "3        0  love trying fresh seafood piers wharfs seaside...    CA   \n",
              "4        0  stopped hungry snacks browsed store since spar...    CA   \n",
              "..     ...                                                ...   ...   \n",
              "995      0  much hype bland food nicely prepared dont get ...    CA   \n",
              "996      3  cheapest hotel sb carpinteria goleta area staf...    CA   \n",
              "997      0  beautiful tasting rooms amazing view great sel...    CA   \n",
              "998      1  since dont think anyone cares think food innou...    CA   \n",
              "999      2  came friends suggestion knowledgable beer help...    CA   \n",
              "\n",
              "              City  Bus_Ave_Star  User_Review_count  User_Useful_count  \\\n",
              "0           Goleta           4.0              922.0             1687.0   \n",
              "1    Santa Barbara           4.0              338.0              800.0   \n",
              "2    Santa Barbara           4.0              431.0             2126.0   \n",
              "3    Santa Barbara           4.0              258.0              452.0   \n",
              "4      Carpinteria           3.0             1638.0             2658.0   \n",
              "..             ...           ...                ...                ...   \n",
              "995  Santa Barbara           4.0              424.0              796.0   \n",
              "996    Carpinteria           2.0              358.0              978.0   \n",
              "997  Santa Barbara           4.0              164.0               64.0   \n",
              "998         Goleta           4.0              354.0             1329.0   \n",
              "999  Santa Barbara           4.5              484.0              357.0   \n",
              "\n",
              "     User_Funny_count  User_Cool_count  \\\n",
              "0               694.0           1070.0   \n",
              "1               144.0            353.0   \n",
              "2              1245.0           1476.0   \n",
              "3               125.0            183.0   \n",
              "4               933.0           2297.0   \n",
              "..                ...              ...   \n",
              "995             195.0            438.0   \n",
              "996             588.0            665.0   \n",
              "997              12.0             33.0   \n",
              "998             269.0            862.0   \n",
              "999              96.0            218.0   \n",
              "\n",
              "                                                 Elite  User_Fans  \\\n",
              "0                  2015,2016,2017,2018,2019,20,20,2021       51.0   \n",
              "1    2012,2013,2014,2015,2016,2017,2018,2019,20,20,...       30.0   \n",
              "2    2012,2013,2014,2015,2016,2017,2018,2019,20,20,...       76.0   \n",
              "3                                       2015,2016,2017       37.0   \n",
              "4             2014,2015,2016,2017,2018,2019,20,20,2021      105.0   \n",
              "..                                                 ...        ...   \n",
              "995                               2018,2019,20,20,2021       52.0   \n",
              "996                      2011,2012,2013,2014,2015,2016       49.0   \n",
              "997                               2017,2018,2019,20,20        3.0   \n",
              "998                      2012,2013,2014,2015,2016,2017       28.0   \n",
              "999                2015,2016,2017,2018,2019,20,20,2021       19.0   \n",
              "\n",
              "     Users_Ave_Star                                      review_cleans  \n",
              "0              4.20  [great, burgersfries, salad, burgers, hint, sa...  \n",
              "1              4.12  [bit, weary, trying, shellfish, company, wharf...  \n",
              "2              4.05  [tough, one, merits, wine, fairly, average, un...  \n",
              "3              3.99  [love, trying, fresh, seafood, piers, wharfs, ...  \n",
              "4              3.79  [stopped, hungry, snacks, browsed, store, sinc...  \n",
              "..              ...                                                ...  \n",
              "995            3.94  [much, hype, bland, food, nicely, prepared, do...  \n",
              "996            4.09  [cheapest, hotel, sb, carpinteria, goleta, are...  \n",
              "997            3.79  [beautiful, tasting, rooms, amazing, view, gre...  \n",
              "998            3.93  [since, dont, think, anyone, cares, think, foo...  \n",
              "999            4.04  [came, friends, suggestion, knowledgable, beer...  \n",
              "\n",
              "[1000 rows x 18 columns]"
            ],
            "text/html": [
              "\n",
              "  <div id=\"df-12bbabe6-9286-42c9-9064-a68f7428b47a\">\n",
              "    <div class=\"colab-df-container\">\n",
              "      <div>\n",
              "<style scoped>\n",
              "    .dataframe tbody tr th:only-of-type {\n",
              "        vertical-align: middle;\n",
              "    }\n",
              "\n",
              "    .dataframe tbody tr th {\n",
              "        vertical-align: top;\n",
              "    }\n",
              "\n",
              "    .dataframe thead th {\n",
              "        text-align: right;\n",
              "    }\n",
              "</style>\n",
              "<table border=\"1\" class=\"dataframe\">\n",
              "  <thead>\n",
              "    <tr style=\"text-align: right;\">\n",
              "      <th></th>\n",
              "      <th>User_id</th>\n",
              "      <th>Bus_id</th>\n",
              "      <th>Star</th>\n",
              "      <th>Useful</th>\n",
              "      <th>Cool</th>\n",
              "      <th>Funny</th>\n",
              "      <th>Review</th>\n",
              "      <th>State</th>\n",
              "      <th>City</th>\n",
              "      <th>Bus_Ave_Star</th>\n",
              "      <th>User_Review_count</th>\n",
              "      <th>User_Useful_count</th>\n",
              "      <th>User_Funny_count</th>\n",
              "      <th>User_Cool_count</th>\n",
              "      <th>Elite</th>\n",
              "      <th>User_Fans</th>\n",
              "      <th>Users_Ave_Star</th>\n",
              "      <th>review_cleans</th>\n",
              "    </tr>\n",
              "  </thead>\n",
              "  <tbody>\n",
              "    <tr>\n",
              "      <th>0</th>\n",
              "      <td>4hBhtCSgoxkrFgHa4YAD-w</td>\n",
              "      <td>bbEXAEFr4RYHLlZ-HFssTA</td>\n",
              "      <td>5.0</td>\n",
              "      <td>0</td>\n",
              "      <td>0</td>\n",
              "      <td>0</td>\n",
              "      <td>great burgersfries salad burgers hint salt pep...</td>\n",
              "      <td>CA</td>\n",
              "      <td>Goleta</td>\n",
              "      <td>4.0</td>\n",
              "      <td>922.0</td>\n",
              "      <td>1687.0</td>\n",
              "      <td>694.0</td>\n",
              "      <td>1070.0</td>\n",
              "      <td>2015,2016,2017,2018,2019,20,20,2021</td>\n",
              "      <td>51.0</td>\n",
              "      <td>4.20</td>\n",
              "      <td>[great, burgersfries, salad, burgers, hint, sa...</td>\n",
              "    </tr>\n",
              "    <tr>\n",
              "      <th>1</th>\n",
              "      <td>JYYYKt6TdVA4ng9lLcXt_g</td>\n",
              "      <td>SZU9c8V2GuREDN5KgyHFJw</td>\n",
              "      <td>5.0</td>\n",
              "      <td>0</td>\n",
              "      <td>0</td>\n",
              "      <td>0</td>\n",
              "      <td>bit weary trying shellfish company wharf often...</td>\n",
              "      <td>CA</td>\n",
              "      <td>Santa Barbara</td>\n",
              "      <td>4.0</td>\n",
              "      <td>338.0</td>\n",
              "      <td>800.0</td>\n",
              "      <td>144.0</td>\n",
              "      <td>353.0</td>\n",
              "      <td>2012,2013,2014,2015,2016,2017,2018,2019,20,20,...</td>\n",
              "      <td>30.0</td>\n",
              "      <td>4.12</td>\n",
              "      <td>[bit, weary, trying, shellfish, company, wharf...</td>\n",
              "    </tr>\n",
              "    <tr>\n",
              "      <th>2</th>\n",
              "      <td>Uk3X2AypU8AqvcYEVf7s6Q</td>\n",
              "      <td>eL4lyE7LNoXEMvpcJ8WNVw</td>\n",
              "      <td>3.0</td>\n",
              "      <td>5</td>\n",
              "      <td>0</td>\n",
              "      <td>0</td>\n",
              "      <td>tough one merits wine fairly average understan...</td>\n",
              "      <td>CA</td>\n",
              "      <td>Santa Barbara</td>\n",
              "      <td>4.0</td>\n",
              "      <td>431.0</td>\n",
              "      <td>2126.0</td>\n",
              "      <td>1245.0</td>\n",
              "      <td>1476.0</td>\n",
              "      <td>2012,2013,2014,2015,2016,2017,2018,2019,20,20,...</td>\n",
              "      <td>76.0</td>\n",
              "      <td>4.05</td>\n",
              "      <td>[tough, one, merits, wine, fairly, average, un...</td>\n",
              "    </tr>\n",
              "    <tr>\n",
              "      <th>3</th>\n",
              "      <td>LcqNuhqaYt5ekKzaRirmIg</td>\n",
              "      <td>SZU9c8V2GuREDN5KgyHFJw</td>\n",
              "      <td>5.0</td>\n",
              "      <td>2</td>\n",
              "      <td>1</td>\n",
              "      <td>0</td>\n",
              "      <td>love trying fresh seafood piers wharfs seaside...</td>\n",
              "      <td>CA</td>\n",
              "      <td>Santa Barbara</td>\n",
              "      <td>4.0</td>\n",
              "      <td>258.0</td>\n",
              "      <td>452.0</td>\n",
              "      <td>125.0</td>\n",
              "      <td>183.0</td>\n",
              "      <td>2015,2016,2017</td>\n",
              "      <td>37.0</td>\n",
              "      <td>3.99</td>\n",
              "      <td>[love, trying, fresh, seafood, piers, wharfs, ...</td>\n",
              "    </tr>\n",
              "    <tr>\n",
              "      <th>4</th>\n",
              "      <td>gasLVm0KRwrVhPGRcqATjw</td>\n",
              "      <td>CHh0ZFrQcsk4boOItr2Zuw</td>\n",
              "      <td>4.0</td>\n",
              "      <td>1</td>\n",
              "      <td>2</td>\n",
              "      <td>0</td>\n",
              "      <td>stopped hungry snacks browsed store since spar...</td>\n",
              "      <td>CA</td>\n",
              "      <td>Carpinteria</td>\n",
              "      <td>3.0</td>\n",
              "      <td>1638.0</td>\n",
              "      <td>2658.0</td>\n",
              "      <td>933.0</td>\n",
              "      <td>2297.0</td>\n",
              "      <td>2014,2015,2016,2017,2018,2019,20,20,2021</td>\n",
              "      <td>105.0</td>\n",
              "      <td>3.79</td>\n",
              "      <td>[stopped, hungry, snacks, browsed, store, sinc...</td>\n",
              "    </tr>\n",
              "    <tr>\n",
              "      <th>...</th>\n",
              "      <td>...</td>\n",
              "      <td>...</td>\n",
              "      <td>...</td>\n",
              "      <td>...</td>\n",
              "      <td>...</td>\n",
              "      <td>...</td>\n",
              "      <td>...</td>\n",
              "      <td>...</td>\n",
              "      <td>...</td>\n",
              "      <td>...</td>\n",
              "      <td>...</td>\n",
              "      <td>...</td>\n",
              "      <td>...</td>\n",
              "      <td>...</td>\n",
              "      <td>...</td>\n",
              "      <td>...</td>\n",
              "      <td>...</td>\n",
              "      <td>...</td>\n",
              "    </tr>\n",
              "    <tr>\n",
              "      <th>995</th>\n",
              "      <td>JI1JXrQZG0IFzViBQVQnmg</td>\n",
              "      <td>SZU9c8V2GuREDN5KgyHFJw</td>\n",
              "      <td>3.0</td>\n",
              "      <td>0</td>\n",
              "      <td>0</td>\n",
              "      <td>0</td>\n",
              "      <td>much hype bland food nicely prepared dont get ...</td>\n",
              "      <td>CA</td>\n",
              "      <td>Santa Barbara</td>\n",
              "      <td>4.0</td>\n",
              "      <td>424.0</td>\n",
              "      <td>796.0</td>\n",
              "      <td>195.0</td>\n",
              "      <td>438.0</td>\n",
              "      <td>2018,2019,20,20,2021</td>\n",
              "      <td>52.0</td>\n",
              "      <td>3.94</td>\n",
              "      <td>[much, hype, bland, food, nicely, prepared, do...</td>\n",
              "    </tr>\n",
              "    <tr>\n",
              "      <th>996</th>\n",
              "      <td>W5D-vYYIHCEb1305Jo3wyA</td>\n",
              "      <td>LqY3NrBE0trSnDj87KAn3A</td>\n",
              "      <td>3.0</td>\n",
              "      <td>3</td>\n",
              "      <td>0</td>\n",
              "      <td>3</td>\n",
              "      <td>cheapest hotel sb carpinteria goleta area staf...</td>\n",
              "      <td>CA</td>\n",
              "      <td>Carpinteria</td>\n",
              "      <td>2.0</td>\n",
              "      <td>358.0</td>\n",
              "      <td>978.0</td>\n",
              "      <td>588.0</td>\n",
              "      <td>665.0</td>\n",
              "      <td>2011,2012,2013,2014,2015,2016</td>\n",
              "      <td>49.0</td>\n",
              "      <td>4.09</td>\n",
              "      <td>[cheapest, hotel, sb, carpinteria, goleta, are...</td>\n",
              "    </tr>\n",
              "    <tr>\n",
              "      <th>997</th>\n",
              "      <td>S7qkQvTi3P8F5t445uZSaA</td>\n",
              "      <td>eL4lyE7LNoXEMvpcJ8WNVw</td>\n",
              "      <td>4.0</td>\n",
              "      <td>0</td>\n",
              "      <td>0</td>\n",
              "      <td>0</td>\n",
              "      <td>beautiful tasting rooms amazing view great sel...</td>\n",
              "      <td>CA</td>\n",
              "      <td>Santa Barbara</td>\n",
              "      <td>4.0</td>\n",
              "      <td>164.0</td>\n",
              "      <td>64.0</td>\n",
              "      <td>12.0</td>\n",
              "      <td>33.0</td>\n",
              "      <td>2017,2018,2019,20,20</td>\n",
              "      <td>3.0</td>\n",
              "      <td>3.79</td>\n",
              "      <td>[beautiful, tasting, rooms, amazing, view, gre...</td>\n",
              "    </tr>\n",
              "    <tr>\n",
              "      <th>998</th>\n",
              "      <td>IkLdv0dFGfRJrtFVJYJnLg</td>\n",
              "      <td>CYwC5OjwCN6ib_AQDxi3Ow</td>\n",
              "      <td>3.0</td>\n",
              "      <td>3</td>\n",
              "      <td>2</td>\n",
              "      <td>1</td>\n",
              "      <td>since dont think anyone cares think food innou...</td>\n",
              "      <td>CA</td>\n",
              "      <td>Goleta</td>\n",
              "      <td>4.0</td>\n",
              "      <td>354.0</td>\n",
              "      <td>1329.0</td>\n",
              "      <td>269.0</td>\n",
              "      <td>862.0</td>\n",
              "      <td>2012,2013,2014,2015,2016,2017</td>\n",
              "      <td>28.0</td>\n",
              "      <td>3.93</td>\n",
              "      <td>[since, dont, think, anyone, cares, think, foo...</td>\n",
              "    </tr>\n",
              "    <tr>\n",
              "      <th>999</th>\n",
              "      <td>u7dxmiH0hJvfkAwDMT5MgQ</td>\n",
              "      <td>CWdCNIJU4Kh480NV9dgQjw</td>\n",
              "      <td>4.0</td>\n",
              "      <td>1</td>\n",
              "      <td>1</td>\n",
              "      <td>2</td>\n",
              "      <td>came friends suggestion knowledgable beer help...</td>\n",
              "      <td>CA</td>\n",
              "      <td>Santa Barbara</td>\n",
              "      <td>4.5</td>\n",
              "      <td>484.0</td>\n",
              "      <td>357.0</td>\n",
              "      <td>96.0</td>\n",
              "      <td>218.0</td>\n",
              "      <td>2015,2016,2017,2018,2019,20,20,2021</td>\n",
              "      <td>19.0</td>\n",
              "      <td>4.04</td>\n",
              "      <td>[came, friends, suggestion, knowledgable, beer...</td>\n",
              "    </tr>\n",
              "  </tbody>\n",
              "</table>\n",
              "<p>1000 rows × 18 columns</p>\n",
              "</div>\n",
              "      <button class=\"colab-df-convert\" onclick=\"convertToInteractive('df-12bbabe6-9286-42c9-9064-a68f7428b47a')\"\n",
              "              title=\"Convert this dataframe to an interactive table.\"\n",
              "              style=\"display:none;\">\n",
              "        \n",
              "  <svg xmlns=\"http://www.w3.org/2000/svg\" height=\"24px\"viewBox=\"0 0 24 24\"\n",
              "       width=\"24px\">\n",
              "    <path d=\"M0 0h24v24H0V0z\" fill=\"none\"/>\n",
              "    <path d=\"M18.56 5.44l.94 2.06.94-2.06 2.06-.94-2.06-.94-.94-2.06-.94 2.06-2.06.94zm-11 1L8.5 8.5l.94-2.06 2.06-.94-2.06-.94L8.5 2.5l-.94 2.06-2.06.94zm10 10l.94 2.06.94-2.06 2.06-.94-2.06-.94-.94-2.06-.94 2.06-2.06.94z\"/><path d=\"M17.41 7.96l-1.37-1.37c-.4-.4-.92-.59-1.43-.59-.52 0-1.04.2-1.43.59L10.3 9.45l-7.72 7.72c-.78.78-.78 2.05 0 2.83L4 21.41c.39.39.9.59 1.41.59.51 0 1.02-.2 1.41-.59l7.78-7.78 2.81-2.81c.8-.78.8-2.07 0-2.86zM5.41 20L4 18.59l7.72-7.72 1.47 1.35L5.41 20z\"/>\n",
              "  </svg>\n",
              "      </button>\n",
              "      \n",
              "  <style>\n",
              "    .colab-df-container {\n",
              "      display:flex;\n",
              "      flex-wrap:wrap;\n",
              "      gap: 12px;\n",
              "    }\n",
              "\n",
              "    .colab-df-convert {\n",
              "      background-color: #E8F0FE;\n",
              "      border: none;\n",
              "      border-radius: 50%;\n",
              "      cursor: pointer;\n",
              "      display: none;\n",
              "      fill: #1967D2;\n",
              "      height: 32px;\n",
              "      padding: 0 0 0 0;\n",
              "      width: 32px;\n",
              "    }\n",
              "\n",
              "    .colab-df-convert:hover {\n",
              "      background-color: #E2EBFA;\n",
              "      box-shadow: 0px 1px 2px rgba(60, 64, 67, 0.3), 0px 1px 3px 1px rgba(60, 64, 67, 0.15);\n",
              "      fill: #174EA6;\n",
              "    }\n",
              "\n",
              "    [theme=dark] .colab-df-convert {\n",
              "      background-color: #3B4455;\n",
              "      fill: #D2E3FC;\n",
              "    }\n",
              "\n",
              "    [theme=dark] .colab-df-convert:hover {\n",
              "      background-color: #434B5C;\n",
              "      box-shadow: 0px 1px 3px 1px rgba(0, 0, 0, 0.15);\n",
              "      filter: drop-shadow(0px 1px 2px rgba(0, 0, 0, 0.3));\n",
              "      fill: #FFFFFF;\n",
              "    }\n",
              "  </style>\n",
              "\n",
              "      <script>\n",
              "        const buttonEl =\n",
              "          document.querySelector('#df-12bbabe6-9286-42c9-9064-a68f7428b47a button.colab-df-convert');\n",
              "        buttonEl.style.display =\n",
              "          google.colab.kernel.accessAllowed ? 'block' : 'none';\n",
              "\n",
              "        async function convertToInteractive(key) {\n",
              "          const element = document.querySelector('#df-12bbabe6-9286-42c9-9064-a68f7428b47a');\n",
              "          const dataTable =\n",
              "            await google.colab.kernel.invokeFunction('convertToInteractive',\n",
              "                                                     [key], {});\n",
              "          if (!dataTable) return;\n",
              "\n",
              "          const docLinkHtml = 'Like what you see? Visit the ' +\n",
              "            '<a target=\"_blank\" href=https://colab.research.google.com/notebooks/data_table.ipynb>data table notebook</a>'\n",
              "            + ' to learn more about interactive tables.';\n",
              "          element.innerHTML = '';\n",
              "          dataTable['output_type'] = 'display_data';\n",
              "          await google.colab.output.renderOutput(dataTable, element);\n",
              "          const docLink = document.createElement('div');\n",
              "          docLink.innerHTML = docLinkHtml;\n",
              "          element.appendChild(docLink);\n",
              "        }\n",
              "      </script>\n",
              "    </div>\n",
              "  </div>\n",
              "  "
            ]
          },
          "metadata": {},
          "execution_count": 8
        }
      ]
    },
    {
      "cell_type": "code",
      "source": [
        "def compute_polarity(text):\n",
        "    return TextBlob(text).sentiment.polarity\n",
        "def compute_subjectivity(text):\n",
        "    return TextBlob(text).sentiment.subjectivity"
      ],
      "metadata": {
        "id": "cAu2dC7NXF1Q"
      },
      "id": "cAu2dC7NXF1Q",
      "execution_count": null,
      "outputs": []
    },
    {
      "cell_type": "code",
      "source": [],
      "metadata": {
        "colab": {
          "base_uri": "https://localhost:8080/"
        },
        "id": "SWEmVsH5izgy",
        "outputId": "ce9ed98c-b052-43de-d233-c54dbe8345b9"
      },
      "id": "SWEmVsH5izgy",
      "execution_count": null,
      "outputs": [
        {
          "output_type": "execute_result",
          "data": {
            "text/plain": [
              "pandas.core.series.Series"
            ]
          },
          "metadata": {},
          "execution_count": 54
        }
      ]
    },
    {
      "cell_type": "code",
      "source": [
        "df_final = pd.DataFrame(data_input)\n",
        "df_final['label'] = data_ready['label']"
      ],
      "metadata": {
        "id": "sbcgqLejlPVL"
      },
      "id": "sbcgqLejlPVL",
      "execution_count": null,
      "outputs": []
    },
    {
      "cell_type": "code",
      "source": [
        "df_final"
      ],
      "metadata": {
        "colab": {
          "base_uri": "https://localhost:8080/",
          "height": 424
        },
        "id": "cbZv4q6ulTJ_",
        "outputId": "6894ba12-3dac-4317-c53f-ac74b120e55f"
      },
      "id": "cbZv4q6ulTJ_",
      "execution_count": null,
      "outputs": [
        {
          "output_type": "execute_result",
          "data": {
            "text/plain": [
              "      0    1   2    3     4     5     6    7   8     9  ...   191   192   193  \\\n",
              "0     0    0   0    0     0     0     0    0   0     0  ...   114    46    69   \n",
              "1     0    0   0    0     0     0     0    0   0     0  ...   184   837   299   \n",
              "2     0    0   0    0     0     0     0    0   0     0  ...    20    40    10   \n",
              "3    36  288  25  143  4345  4346  3088  960  11  1393  ...   313   519   140   \n",
              "4     0    0   0    0     0     0     0    0   0     0  ...   203   962    55   \n",
              "..   ..  ...  ..  ...   ...   ...   ...  ...  ..   ...  ...   ...   ...   ...   \n",
              "995   0    0   0    0     0     0     0    0   0     0  ...     2   624   133   \n",
              "996   0    0   0    0     0     0     0    0   0     0  ...  8913  8914  2013   \n",
              "997   0    0   0    0     0     0     0    0   0     0  ...  1112    69    58   \n",
              "998   0    0   0    0     0     0     0    0   0     0  ...     5   720    72   \n",
              "999   0    0   0    0     0     0     0    0   0     0  ...    11    43     6   \n",
              "\n",
              "      194   195  196   197   198   199  label  \n",
              "0     130    55   21    55    65     9      1  \n",
              "1      51   570   24  1557  4338  2452      1  \n",
              "2      23   103  399  4344    23  3087      0  \n",
              "3    1395   100   98  1276   267   422      1  \n",
              "4      65    69   46   304   573  1562      1  \n",
              "..    ...   ...  ...   ...   ...   ...    ...  \n",
              "995  1139   296  697  1081  4078   296      0  \n",
              "996   391  1011   33   324  8915    49      0  \n",
              "997    19    46    4    88   334     3      1  \n",
              "998   167   280  627    54    10   641      0  \n",
              "999   734    57   19   109   329     3      1  \n",
              "\n",
              "[1000 rows x 201 columns]"
            ],
            "text/html": [
              "\n",
              "  <div id=\"df-2f909db4-ca7c-4242-b0d3-ef3822a32f37\">\n",
              "    <div class=\"colab-df-container\">\n",
              "      <div>\n",
              "<style scoped>\n",
              "    .dataframe tbody tr th:only-of-type {\n",
              "        vertical-align: middle;\n",
              "    }\n",
              "\n",
              "    .dataframe tbody tr th {\n",
              "        vertical-align: top;\n",
              "    }\n",
              "\n",
              "    .dataframe thead th {\n",
              "        text-align: right;\n",
              "    }\n",
              "</style>\n",
              "<table border=\"1\" class=\"dataframe\">\n",
              "  <thead>\n",
              "    <tr style=\"text-align: right;\">\n",
              "      <th></th>\n",
              "      <th>0</th>\n",
              "      <th>1</th>\n",
              "      <th>2</th>\n",
              "      <th>3</th>\n",
              "      <th>4</th>\n",
              "      <th>5</th>\n",
              "      <th>6</th>\n",
              "      <th>7</th>\n",
              "      <th>8</th>\n",
              "      <th>9</th>\n",
              "      <th>...</th>\n",
              "      <th>191</th>\n",
              "      <th>192</th>\n",
              "      <th>193</th>\n",
              "      <th>194</th>\n",
              "      <th>195</th>\n",
              "      <th>196</th>\n",
              "      <th>197</th>\n",
              "      <th>198</th>\n",
              "      <th>199</th>\n",
              "      <th>label</th>\n",
              "    </tr>\n",
              "  </thead>\n",
              "  <tbody>\n",
              "    <tr>\n",
              "      <th>0</th>\n",
              "      <td>0</td>\n",
              "      <td>0</td>\n",
              "      <td>0</td>\n",
              "      <td>0</td>\n",
              "      <td>0</td>\n",
              "      <td>0</td>\n",
              "      <td>0</td>\n",
              "      <td>0</td>\n",
              "      <td>0</td>\n",
              "      <td>0</td>\n",
              "      <td>...</td>\n",
              "      <td>114</td>\n",
              "      <td>46</td>\n",
              "      <td>69</td>\n",
              "      <td>130</td>\n",
              "      <td>55</td>\n",
              "      <td>21</td>\n",
              "      <td>55</td>\n",
              "      <td>65</td>\n",
              "      <td>9</td>\n",
              "      <td>1</td>\n",
              "    </tr>\n",
              "    <tr>\n",
              "      <th>1</th>\n",
              "      <td>0</td>\n",
              "      <td>0</td>\n",
              "      <td>0</td>\n",
              "      <td>0</td>\n",
              "      <td>0</td>\n",
              "      <td>0</td>\n",
              "      <td>0</td>\n",
              "      <td>0</td>\n",
              "      <td>0</td>\n",
              "      <td>0</td>\n",
              "      <td>...</td>\n",
              "      <td>184</td>\n",
              "      <td>837</td>\n",
              "      <td>299</td>\n",
              "      <td>51</td>\n",
              "      <td>570</td>\n",
              "      <td>24</td>\n",
              "      <td>1557</td>\n",
              "      <td>4338</td>\n",
              "      <td>2452</td>\n",
              "      <td>1</td>\n",
              "    </tr>\n",
              "    <tr>\n",
              "      <th>2</th>\n",
              "      <td>0</td>\n",
              "      <td>0</td>\n",
              "      <td>0</td>\n",
              "      <td>0</td>\n",
              "      <td>0</td>\n",
              "      <td>0</td>\n",
              "      <td>0</td>\n",
              "      <td>0</td>\n",
              "      <td>0</td>\n",
              "      <td>0</td>\n",
              "      <td>...</td>\n",
              "      <td>20</td>\n",
              "      <td>40</td>\n",
              "      <td>10</td>\n",
              "      <td>23</td>\n",
              "      <td>103</td>\n",
              "      <td>399</td>\n",
              "      <td>4344</td>\n",
              "      <td>23</td>\n",
              "      <td>3087</td>\n",
              "      <td>0</td>\n",
              "    </tr>\n",
              "    <tr>\n",
              "      <th>3</th>\n",
              "      <td>36</td>\n",
              "      <td>288</td>\n",
              "      <td>25</td>\n",
              "      <td>143</td>\n",
              "      <td>4345</td>\n",
              "      <td>4346</td>\n",
              "      <td>3088</td>\n",
              "      <td>960</td>\n",
              "      <td>11</td>\n",
              "      <td>1393</td>\n",
              "      <td>...</td>\n",
              "      <td>313</td>\n",
              "      <td>519</td>\n",
              "      <td>140</td>\n",
              "      <td>1395</td>\n",
              "      <td>100</td>\n",
              "      <td>98</td>\n",
              "      <td>1276</td>\n",
              "      <td>267</td>\n",
              "      <td>422</td>\n",
              "      <td>1</td>\n",
              "    </tr>\n",
              "    <tr>\n",
              "      <th>4</th>\n",
              "      <td>0</td>\n",
              "      <td>0</td>\n",
              "      <td>0</td>\n",
              "      <td>0</td>\n",
              "      <td>0</td>\n",
              "      <td>0</td>\n",
              "      <td>0</td>\n",
              "      <td>0</td>\n",
              "      <td>0</td>\n",
              "      <td>0</td>\n",
              "      <td>...</td>\n",
              "      <td>203</td>\n",
              "      <td>962</td>\n",
              "      <td>55</td>\n",
              "      <td>65</td>\n",
              "      <td>69</td>\n",
              "      <td>46</td>\n",
              "      <td>304</td>\n",
              "      <td>573</td>\n",
              "      <td>1562</td>\n",
              "      <td>1</td>\n",
              "    </tr>\n",
              "    <tr>\n",
              "      <th>...</th>\n",
              "      <td>...</td>\n",
              "      <td>...</td>\n",
              "      <td>...</td>\n",
              "      <td>...</td>\n",
              "      <td>...</td>\n",
              "      <td>...</td>\n",
              "      <td>...</td>\n",
              "      <td>...</td>\n",
              "      <td>...</td>\n",
              "      <td>...</td>\n",
              "      <td>...</td>\n",
              "      <td>...</td>\n",
              "      <td>...</td>\n",
              "      <td>...</td>\n",
              "      <td>...</td>\n",
              "      <td>...</td>\n",
              "      <td>...</td>\n",
              "      <td>...</td>\n",
              "      <td>...</td>\n",
              "      <td>...</td>\n",
              "      <td>...</td>\n",
              "    </tr>\n",
              "    <tr>\n",
              "      <th>995</th>\n",
              "      <td>0</td>\n",
              "      <td>0</td>\n",
              "      <td>0</td>\n",
              "      <td>0</td>\n",
              "      <td>0</td>\n",
              "      <td>0</td>\n",
              "      <td>0</td>\n",
              "      <td>0</td>\n",
              "      <td>0</td>\n",
              "      <td>0</td>\n",
              "      <td>...</td>\n",
              "      <td>2</td>\n",
              "      <td>624</td>\n",
              "      <td>133</td>\n",
              "      <td>1139</td>\n",
              "      <td>296</td>\n",
              "      <td>697</td>\n",
              "      <td>1081</td>\n",
              "      <td>4078</td>\n",
              "      <td>296</td>\n",
              "      <td>0</td>\n",
              "    </tr>\n",
              "    <tr>\n",
              "      <th>996</th>\n",
              "      <td>0</td>\n",
              "      <td>0</td>\n",
              "      <td>0</td>\n",
              "      <td>0</td>\n",
              "      <td>0</td>\n",
              "      <td>0</td>\n",
              "      <td>0</td>\n",
              "      <td>0</td>\n",
              "      <td>0</td>\n",
              "      <td>0</td>\n",
              "      <td>...</td>\n",
              "      <td>8913</td>\n",
              "      <td>8914</td>\n",
              "      <td>2013</td>\n",
              "      <td>391</td>\n",
              "      <td>1011</td>\n",
              "      <td>33</td>\n",
              "      <td>324</td>\n",
              "      <td>8915</td>\n",
              "      <td>49</td>\n",
              "      <td>0</td>\n",
              "    </tr>\n",
              "    <tr>\n",
              "      <th>997</th>\n",
              "      <td>0</td>\n",
              "      <td>0</td>\n",
              "      <td>0</td>\n",
              "      <td>0</td>\n",
              "      <td>0</td>\n",
              "      <td>0</td>\n",
              "      <td>0</td>\n",
              "      <td>0</td>\n",
              "      <td>0</td>\n",
              "      <td>0</td>\n",
              "      <td>...</td>\n",
              "      <td>1112</td>\n",
              "      <td>69</td>\n",
              "      <td>58</td>\n",
              "      <td>19</td>\n",
              "      <td>46</td>\n",
              "      <td>4</td>\n",
              "      <td>88</td>\n",
              "      <td>334</td>\n",
              "      <td>3</td>\n",
              "      <td>1</td>\n",
              "    </tr>\n",
              "    <tr>\n",
              "      <th>998</th>\n",
              "      <td>0</td>\n",
              "      <td>0</td>\n",
              "      <td>0</td>\n",
              "      <td>0</td>\n",
              "      <td>0</td>\n",
              "      <td>0</td>\n",
              "      <td>0</td>\n",
              "      <td>0</td>\n",
              "      <td>0</td>\n",
              "      <td>0</td>\n",
              "      <td>...</td>\n",
              "      <td>5</td>\n",
              "      <td>720</td>\n",
              "      <td>72</td>\n",
              "      <td>167</td>\n",
              "      <td>280</td>\n",
              "      <td>627</td>\n",
              "      <td>54</td>\n",
              "      <td>10</td>\n",
              "      <td>641</td>\n",
              "      <td>0</td>\n",
              "    </tr>\n",
              "    <tr>\n",
              "      <th>999</th>\n",
              "      <td>0</td>\n",
              "      <td>0</td>\n",
              "      <td>0</td>\n",
              "      <td>0</td>\n",
              "      <td>0</td>\n",
              "      <td>0</td>\n",
              "      <td>0</td>\n",
              "      <td>0</td>\n",
              "      <td>0</td>\n",
              "      <td>0</td>\n",
              "      <td>...</td>\n",
              "      <td>11</td>\n",
              "      <td>43</td>\n",
              "      <td>6</td>\n",
              "      <td>734</td>\n",
              "      <td>57</td>\n",
              "      <td>19</td>\n",
              "      <td>109</td>\n",
              "      <td>329</td>\n",
              "      <td>3</td>\n",
              "      <td>1</td>\n",
              "    </tr>\n",
              "  </tbody>\n",
              "</table>\n",
              "<p>1000 rows × 201 columns</p>\n",
              "</div>\n",
              "      <button class=\"colab-df-convert\" onclick=\"convertToInteractive('df-2f909db4-ca7c-4242-b0d3-ef3822a32f37')\"\n",
              "              title=\"Convert this dataframe to an interactive table.\"\n",
              "              style=\"display:none;\">\n",
              "        \n",
              "  <svg xmlns=\"http://www.w3.org/2000/svg\" height=\"24px\"viewBox=\"0 0 24 24\"\n",
              "       width=\"24px\">\n",
              "    <path d=\"M0 0h24v24H0V0z\" fill=\"none\"/>\n",
              "    <path d=\"M18.56 5.44l.94 2.06.94-2.06 2.06-.94-2.06-.94-.94-2.06-.94 2.06-2.06.94zm-11 1L8.5 8.5l.94-2.06 2.06-.94-2.06-.94L8.5 2.5l-.94 2.06-2.06.94zm10 10l.94 2.06.94-2.06 2.06-.94-2.06-.94-.94-2.06-.94 2.06-2.06.94z\"/><path d=\"M17.41 7.96l-1.37-1.37c-.4-.4-.92-.59-1.43-.59-.52 0-1.04.2-1.43.59L10.3 9.45l-7.72 7.72c-.78.78-.78 2.05 0 2.83L4 21.41c.39.39.9.59 1.41.59.51 0 1.02-.2 1.41-.59l7.78-7.78 2.81-2.81c.8-.78.8-2.07 0-2.86zM5.41 20L4 18.59l7.72-7.72 1.47 1.35L5.41 20z\"/>\n",
              "  </svg>\n",
              "      </button>\n",
              "      \n",
              "  <style>\n",
              "    .colab-df-container {\n",
              "      display:flex;\n",
              "      flex-wrap:wrap;\n",
              "      gap: 12px;\n",
              "    }\n",
              "\n",
              "    .colab-df-convert {\n",
              "      background-color: #E8F0FE;\n",
              "      border: none;\n",
              "      border-radius: 50%;\n",
              "      cursor: pointer;\n",
              "      display: none;\n",
              "      fill: #1967D2;\n",
              "      height: 32px;\n",
              "      padding: 0 0 0 0;\n",
              "      width: 32px;\n",
              "    }\n",
              "\n",
              "    .colab-df-convert:hover {\n",
              "      background-color: #E2EBFA;\n",
              "      box-shadow: 0px 1px 2px rgba(60, 64, 67, 0.3), 0px 1px 3px 1px rgba(60, 64, 67, 0.15);\n",
              "      fill: #174EA6;\n",
              "    }\n",
              "\n",
              "    [theme=dark] .colab-df-convert {\n",
              "      background-color: #3B4455;\n",
              "      fill: #D2E3FC;\n",
              "    }\n",
              "\n",
              "    [theme=dark] .colab-df-convert:hover {\n",
              "      background-color: #434B5C;\n",
              "      box-shadow: 0px 1px 3px 1px rgba(0, 0, 0, 0.15);\n",
              "      filter: drop-shadow(0px 1px 2px rgba(0, 0, 0, 0.3));\n",
              "      fill: #FFFFFF;\n",
              "    }\n",
              "  </style>\n",
              "\n",
              "      <script>\n",
              "        const buttonEl =\n",
              "          document.querySelector('#df-2f909db4-ca7c-4242-b0d3-ef3822a32f37 button.colab-df-convert');\n",
              "        buttonEl.style.display =\n",
              "          google.colab.kernel.accessAllowed ? 'block' : 'none';\n",
              "\n",
              "        async function convertToInteractive(key) {\n",
              "          const element = document.querySelector('#df-2f909db4-ca7c-4242-b0d3-ef3822a32f37');\n",
              "          const dataTable =\n",
              "            await google.colab.kernel.invokeFunction('convertToInteractive',\n",
              "                                                     [key], {});\n",
              "          if (!dataTable) return;\n",
              "\n",
              "          const docLinkHtml = 'Like what you see? Visit the ' +\n",
              "            '<a target=\"_blank\" href=https://colab.research.google.com/notebooks/data_table.ipynb>data table notebook</a>'\n",
              "            + ' to learn more about interactive tables.';\n",
              "          element.innerHTML = '';\n",
              "          dataTable['output_type'] = 'display_data';\n",
              "          await google.colab.output.renderOutput(dataTable, element);\n",
              "          const docLink = document.createElement('div');\n",
              "          docLink.innerHTML = docLinkHtml;\n",
              "          element.appendChild(docLink);\n",
              "        }\n",
              "      </script>\n",
              "    </div>\n",
              "  </div>\n",
              "  "
            ]
          },
          "metadata": {},
          "execution_count": 78
        }
      ]
    },
    {
      "cell_type": "code",
      "source": [
        "df_final.head()"
      ],
      "metadata": {
        "colab": {
          "base_uri": "https://localhost:8080/",
          "height": 206
        },
        "id": "2cUN9p58jZcI",
        "outputId": "1b31a672-a983-449f-951f-433c65a57467"
      },
      "id": "2cUN9p58jZcI",
      "execution_count": null,
      "outputs": [
        {
          "output_type": "execute_result",
          "data": {
            "text/plain": [
              "   label                                              input\n",
              "0      1  [0, 0, 0, 0, 0, 0, 0, 0, 0, 0, 0, 0, 0, 0, 0, ...\n",
              "1      1  [0, 0, 0, 0, 0, 0, 0, 0, 0, 0, 0, 0, 0, 0, 0, ...\n",
              "2      0  [0, 0, 0, 0, 0, 0, 0, 0, 0, 0, 0, 0, 0, 0, 0, ...\n",
              "3      1  [36, 288, 25, 143, 4345, 4346, 3088, 960, 11, ...\n",
              "4      1  [0, 0, 0, 0, 0, 0, 0, 0, 0, 0, 0, 0, 0, 0, 0, ..."
            ],
            "text/html": [
              "\n",
              "  <div id=\"df-6365fee9-3a82-4227-92e5-99cc87e67ebb\">\n",
              "    <div class=\"colab-df-container\">\n",
              "      <div>\n",
              "<style scoped>\n",
              "    .dataframe tbody tr th:only-of-type {\n",
              "        vertical-align: middle;\n",
              "    }\n",
              "\n",
              "    .dataframe tbody tr th {\n",
              "        vertical-align: top;\n",
              "    }\n",
              "\n",
              "    .dataframe thead th {\n",
              "        text-align: right;\n",
              "    }\n",
              "</style>\n",
              "<table border=\"1\" class=\"dataframe\">\n",
              "  <thead>\n",
              "    <tr style=\"text-align: right;\">\n",
              "      <th></th>\n",
              "      <th>label</th>\n",
              "      <th>input</th>\n",
              "    </tr>\n",
              "  </thead>\n",
              "  <tbody>\n",
              "    <tr>\n",
              "      <th>0</th>\n",
              "      <td>1</td>\n",
              "      <td>[0, 0, 0, 0, 0, 0, 0, 0, 0, 0, 0, 0, 0, 0, 0, ...</td>\n",
              "    </tr>\n",
              "    <tr>\n",
              "      <th>1</th>\n",
              "      <td>1</td>\n",
              "      <td>[0, 0, 0, 0, 0, 0, 0, 0, 0, 0, 0, 0, 0, 0, 0, ...</td>\n",
              "    </tr>\n",
              "    <tr>\n",
              "      <th>2</th>\n",
              "      <td>0</td>\n",
              "      <td>[0, 0, 0, 0, 0, 0, 0, 0, 0, 0, 0, 0, 0, 0, 0, ...</td>\n",
              "    </tr>\n",
              "    <tr>\n",
              "      <th>3</th>\n",
              "      <td>1</td>\n",
              "      <td>[36, 288, 25, 143, 4345, 4346, 3088, 960, 11, ...</td>\n",
              "    </tr>\n",
              "    <tr>\n",
              "      <th>4</th>\n",
              "      <td>1</td>\n",
              "      <td>[0, 0, 0, 0, 0, 0, 0, 0, 0, 0, 0, 0, 0, 0, 0, ...</td>\n",
              "    </tr>\n",
              "  </tbody>\n",
              "</table>\n",
              "</div>\n",
              "      <button class=\"colab-df-convert\" onclick=\"convertToInteractive('df-6365fee9-3a82-4227-92e5-99cc87e67ebb')\"\n",
              "              title=\"Convert this dataframe to an interactive table.\"\n",
              "              style=\"display:none;\">\n",
              "        \n",
              "  <svg xmlns=\"http://www.w3.org/2000/svg\" height=\"24px\"viewBox=\"0 0 24 24\"\n",
              "       width=\"24px\">\n",
              "    <path d=\"M0 0h24v24H0V0z\" fill=\"none\"/>\n",
              "    <path d=\"M18.56 5.44l.94 2.06.94-2.06 2.06-.94-2.06-.94-.94-2.06-.94 2.06-2.06.94zm-11 1L8.5 8.5l.94-2.06 2.06-.94-2.06-.94L8.5 2.5l-.94 2.06-2.06.94zm10 10l.94 2.06.94-2.06 2.06-.94-2.06-.94-.94-2.06-.94 2.06-2.06.94z\"/><path d=\"M17.41 7.96l-1.37-1.37c-.4-.4-.92-.59-1.43-.59-.52 0-1.04.2-1.43.59L10.3 9.45l-7.72 7.72c-.78.78-.78 2.05 0 2.83L4 21.41c.39.39.9.59 1.41.59.51 0 1.02-.2 1.41-.59l7.78-7.78 2.81-2.81c.8-.78.8-2.07 0-2.86zM5.41 20L4 18.59l7.72-7.72 1.47 1.35L5.41 20z\"/>\n",
              "  </svg>\n",
              "      </button>\n",
              "      \n",
              "  <style>\n",
              "    .colab-df-container {\n",
              "      display:flex;\n",
              "      flex-wrap:wrap;\n",
              "      gap: 12px;\n",
              "    }\n",
              "\n",
              "    .colab-df-convert {\n",
              "      background-color: #E8F0FE;\n",
              "      border: none;\n",
              "      border-radius: 50%;\n",
              "      cursor: pointer;\n",
              "      display: none;\n",
              "      fill: #1967D2;\n",
              "      height: 32px;\n",
              "      padding: 0 0 0 0;\n",
              "      width: 32px;\n",
              "    }\n",
              "\n",
              "    .colab-df-convert:hover {\n",
              "      background-color: #E2EBFA;\n",
              "      box-shadow: 0px 1px 2px rgba(60, 64, 67, 0.3), 0px 1px 3px 1px rgba(60, 64, 67, 0.15);\n",
              "      fill: #174EA6;\n",
              "    }\n",
              "\n",
              "    [theme=dark] .colab-df-convert {\n",
              "      background-color: #3B4455;\n",
              "      fill: #D2E3FC;\n",
              "    }\n",
              "\n",
              "    [theme=dark] .colab-df-convert:hover {\n",
              "      background-color: #434B5C;\n",
              "      box-shadow: 0px 1px 3px 1px rgba(0, 0, 0, 0.15);\n",
              "      filter: drop-shadow(0px 1px 2px rgba(0, 0, 0, 0.3));\n",
              "      fill: #FFFFFF;\n",
              "    }\n",
              "  </style>\n",
              "\n",
              "      <script>\n",
              "        const buttonEl =\n",
              "          document.querySelector('#df-6365fee9-3a82-4227-92e5-99cc87e67ebb button.colab-df-convert');\n",
              "        buttonEl.style.display =\n",
              "          google.colab.kernel.accessAllowed ? 'block' : 'none';\n",
              "\n",
              "        async function convertToInteractive(key) {\n",
              "          const element = document.querySelector('#df-6365fee9-3a82-4227-92e5-99cc87e67ebb');\n",
              "          const dataTable =\n",
              "            await google.colab.kernel.invokeFunction('convertToInteractive',\n",
              "                                                     [key], {});\n",
              "          if (!dataTable) return;\n",
              "\n",
              "          const docLinkHtml = 'Like what you see? Visit the ' +\n",
              "            '<a target=\"_blank\" href=https://colab.research.google.com/notebooks/data_table.ipynb>data table notebook</a>'\n",
              "            + ' to learn more about interactive tables.';\n",
              "          element.innerHTML = '';\n",
              "          dataTable['output_type'] = 'display_data';\n",
              "          await google.colab.output.renderOutput(dataTable, element);\n",
              "          const docLink = document.createElement('div');\n",
              "          docLink.innerHTML = docLinkHtml;\n",
              "          element.appendChild(docLink);\n",
              "        }\n",
              "      </script>\n",
              "    </div>\n",
              "  </div>\n",
              "  "
            ]
          },
          "metadata": {},
          "execution_count": 63
        }
      ]
    },
    {
      "cell_type": "code",
      "source": [
        "X = df_final.iloc[:,:200]\n",
        "Y = df_final['label']\n",
        "x_train,x_test,y_train,y_test=train_test_split(X,Y,test_size=0.2) #Test to Train ratio is 2:8"
      ],
      "metadata": {
        "id": "PwRCw-3PjSrT"
      },
      "id": "PwRCw-3PjSrT",
      "execution_count": null,
      "outputs": []
    },
    {
      "cell_type": "code",
      "source": [
        "max_words = 10000\n",
        "maxlen = 200\n",
        "model = Sequential()\n",
        "model.add(Embedding(max_words,64,input_length = maxlen))\n",
        "model.add(LSTM(32, dropout = 0.2, recurrent_dropout = 0.2))\n",
        "model.add(Dense(1, activation = 'sigmoid'))\n",
        "model.compile(optimizer = 'adam', loss = 'binary_crossentropy', metrics = ['acc'])\n",
        "model.summary()"
      ],
      "metadata": {
        "id": "oRd8m6kJ1Ug4",
        "colab": {
          "base_uri": "https://localhost:8080/"
        },
        "outputId": "e07ccd4c-d506-42be-bc97-8a0aacbdd114"
      },
      "id": "oRd8m6kJ1Ug4",
      "execution_count": null,
      "outputs": [
        {
          "output_type": "stream",
          "name": "stdout",
          "text": [
            "Model: \"sequential_10\"\n",
            "_________________________________________________________________\n",
            " Layer (type)                Output Shape              Param #   \n",
            "=================================================================\n",
            " embedding_10 (Embedding)    (None, 200, 64)           640000    \n",
            "                                                                 \n",
            " lstm_10 (LSTM)              (None, 32)                12416     \n",
            "                                                                 \n",
            " dense_10 (Dense)            (None, 1)                 33        \n",
            "                                                                 \n",
            "=================================================================\n",
            "Total params: 652,449\n",
            "Trainable params: 652,449\n",
            "Non-trainable params: 0\n",
            "_________________________________________________________________\n"
          ]
        }
      ]
    },
    {
      "cell_type": "code",
      "source": [
        "x_train.shape"
      ],
      "metadata": {
        "colab": {
          "base_uri": "https://localhost:8080/"
        },
        "id": "M3G2n1E3YKtH",
        "outputId": "68f9388b-9c20-4faf-8f6c-22aa4ebb8365"
      },
      "id": "M3G2n1E3YKtH",
      "execution_count": null,
      "outputs": [
        {
          "output_type": "execute_result",
          "data": {
            "text/plain": [
              "(800, 200)"
            ]
          },
          "metadata": {},
          "execution_count": 84
        }
      ]
    },
    {
      "cell_type": "code",
      "source": [
        "y_train.shape"
      ],
      "metadata": {
        "colab": {
          "base_uri": "https://localhost:8080/"
        },
        "id": "2L44emMFmTyd",
        "outputId": "8279ab35-e371-438e-8884-afed9f2fcaae"
      },
      "id": "2L44emMFmTyd",
      "execution_count": null,
      "outputs": [
        {
          "output_type": "execute_result",
          "data": {
            "text/plain": [
              "(800,)"
            ]
          },
          "metadata": {},
          "execution_count": 85
        }
      ]
    },
    {
      "cell_type": "code",
      "source": [
        "history = model.fit(x_train,y_train, epochs = 20, batch_size = 128, validation_split=0.2)"
      ],
      "metadata": {
        "colab": {
          "base_uri": "https://localhost:8080/"
        },
        "id": "Hi7hyFthWWX-",
        "outputId": "e94a1b39-9f72-46f9-b07a-f4c02dc18804"
      },
      "id": "Hi7hyFthWWX-",
      "execution_count": null,
      "outputs": [
        {
          "output_type": "stream",
          "name": "stdout",
          "text": [
            "Epoch 1/20\n",
            "5/5 [==============================] - 4s 454ms/step - loss: 0.6879 - acc: 0.6453 - val_loss: 0.6790 - val_acc: 0.7437\n",
            "Epoch 2/20\n",
            "5/5 [==============================] - 2s 352ms/step - loss: 0.6704 - acc: 0.6922 - val_loss: 0.6583 - val_acc: 0.7437\n",
            "Epoch 3/20\n",
            "5/5 [==============================] - 2s 367ms/step - loss: 0.6422 - acc: 0.6922 - val_loss: 0.6228 - val_acc: 0.7437\n",
            "Epoch 4/20\n",
            "5/5 [==============================] - 2s 355ms/step - loss: 0.5892 - acc: 0.6922 - val_loss: 0.5646 - val_acc: 0.7437\n",
            "Epoch 5/20\n",
            "5/5 [==============================] - 2s 354ms/step - loss: 0.5580 - acc: 0.6922 - val_loss: 0.5556 - val_acc: 0.7437\n",
            "Epoch 6/20\n",
            "5/5 [==============================] - 2s 357ms/step - loss: 0.5117 - acc: 0.6922 - val_loss: 0.5551 - val_acc: 0.7437\n",
            "Epoch 7/20\n",
            "5/5 [==============================] - 2s 357ms/step - loss: 0.4689 - acc: 0.7047 - val_loss: 0.5361 - val_acc: 0.7437\n",
            "Epoch 8/20\n",
            "5/5 [==============================] - 2s 352ms/step - loss: 0.3963 - acc: 0.7500 - val_loss: 0.5249 - val_acc: 0.7437\n",
            "Epoch 9/20\n",
            "5/5 [==============================] - 2s 360ms/step - loss: 0.3068 - acc: 0.8531 - val_loss: 0.4884 - val_acc: 0.7563\n",
            "Epoch 10/20\n",
            "5/5 [==============================] - 2s 360ms/step - loss: 0.2262 - acc: 0.9500 - val_loss: 0.5402 - val_acc: 0.7375\n",
            "Epoch 11/20\n",
            "5/5 [==============================] - 2s 350ms/step - loss: 0.1903 - acc: 0.9891 - val_loss: 0.4783 - val_acc: 0.7688\n",
            "Epoch 12/20\n",
            "5/5 [==============================] - 2s 353ms/step - loss: 0.1510 - acc: 0.9953 - val_loss: 0.6491 - val_acc: 0.7437\n",
            "Epoch 13/20\n",
            "5/5 [==============================] - 2s 358ms/step - loss: 0.1291 - acc: 0.9906 - val_loss: 0.4851 - val_acc: 0.7812\n",
            "Epoch 14/20\n",
            "5/5 [==============================] - 2s 355ms/step - loss: 0.1272 - acc: 1.0000 - val_loss: 0.4738 - val_acc: 0.7500\n",
            "Epoch 15/20\n",
            "5/5 [==============================] - 2s 365ms/step - loss: 0.1163 - acc: 1.0000 - val_loss: 0.4944 - val_acc: 0.7563\n",
            "Epoch 16/20\n",
            "5/5 [==============================] - 2s 356ms/step - loss: 0.1004 - acc: 1.0000 - val_loss: 0.5754 - val_acc: 0.7437\n",
            "Epoch 17/20\n",
            "5/5 [==============================] - 2s 357ms/step - loss: 0.0893 - acc: 1.0000 - val_loss: 0.7114 - val_acc: 0.7437\n",
            "Epoch 18/20\n",
            "5/5 [==============================] - 2s 351ms/step - loss: 0.0812 - acc: 1.0000 - val_loss: 0.7881 - val_acc: 0.7375\n",
            "Epoch 19/20\n",
            "5/5 [==============================] - 2s 353ms/step - loss: 0.0725 - acc: 1.0000 - val_loss: 0.7590 - val_acc: 0.7250\n",
            "Epoch 20/20\n",
            "5/5 [==============================] - 2s 362ms/step - loss: 0.0657 - acc: 1.0000 - val_loss: 0.7496 - val_acc: 0.7312\n"
          ]
        }
      ]
    },
    {
      "cell_type": "code",
      "source": [
        "acc = history.history['acc']\n",
        "val_acc = history.history['val_acc']\n",
        "loss = history.history['loss']\n",
        "val_loss = history.history['val_loss']\n",
        "\n",
        "epochs = range(len(acc))\n",
        "\n",
        "plt.plot(epochs, acc, 'bo', label='Training acc')\n",
        "plt.plot(epochs, val_acc, 'b', label='Validation acc')\n",
        "plt.title('Training and validation accuracy')\n",
        "plt.legend()\n",
        "\n",
        "plt.figure()\n",
        "\n",
        "plt.plot(epochs, loss, 'bo', label='Training loss')\n",
        "plt.plot(epochs, val_loss, 'b', label='Validation loss')\n",
        "plt.title('Training and validation loss')\n",
        "plt.legend()\n",
        "\n",
        "plt.show()"
      ],
      "metadata": {
        "colab": {
          "base_uri": "https://localhost:8080/",
          "height": 545
        },
        "id": "aEdCgBzZap7F",
        "outputId": "54b47df9-f6d7-403f-a296-6f19c8ebb019"
      },
      "id": "aEdCgBzZap7F",
      "execution_count": null,
      "outputs": [
        {
          "output_type": "display_data",
          "data": {
            "text/plain": [
              "<Figure size 432x288 with 1 Axes>"
            ],
            "image/png": "[encoded data removed]"
          },
          "metadata": {
            "needs_background": "light"
          }
        },
        {
          "output_type": "display_data",
          "data": {
            "text/plain": [
              "<Figure size 432x288 with 1 Axes>"
            ],
            "image/png": "[encoded data removed]"
          },
          "metadata": {
            "needs_background": "light"
          }
        }
      ]
    },
    {
      "cell_type": "code",
      "source": [
        "model.evaluate(x_test, y_test)"
      ],
      "metadata": {
        "id": "-CuVjuP27E4m",
        "colab": {
          "base_uri": "https://localhost:8080/"
        },
        "outputId": "bb5ed58e-7091-4ae8-a038-8ed6bfd1899a"
      },
      "id": "-CuVjuP27E4m",
      "execution_count": null,
      "outputs": [
        {
          "output_type": "stream",
          "name": "stdout",
          "text": [
            "7/7 [==============================] - 0s 27ms/step - loss: 0.8148 - acc: 0.7800\n"
          ]
        },
        {
          "output_type": "execute_result",
          "data": {
            "text/plain": [
              "[0.8147789239883423, 0.7799999713897705]"
            ]
          },
          "metadata": {},
          "execution_count": 51
        }
      ]
    },
    {
      "cell_type": "markdown",
      "source": [
        "Ran on entire dataset"
      ],
      "metadata": {
        "id": "pZPh3Mx58fHh"
      },
      "id": "pZPh3Mx58fHh"
    },
    {
      "cell_type": "code",
      "source": [
        "max_words = 10000\n",
        "maxlen = 200\n",
        "model = Sequential()\n",
        "model.add(Embedding(max_words,64,input_length = maxlen))\n",
        "model.add(LSTM(32, dropout = 0.2, recurrent_dropout = 0.2))\n",
        "model.add(Dense(1, activation = 'sigmoid'))\n",
        "model.compile(optimizer = 'adam', loss = 'binary_crossentropy', metrics = ['acc'])\n",
        "model.summary()"
      ],
      "metadata": {
        "id": "hJHeysKkenYH"
      },
      "id": "hJHeysKkenYH",
      "execution_count": null,
      "outputs": []
    },
    {
      "cell_type": "code",
      "source": [
        "data_lstm = data.copy()\n",
        "data_lstm['label'] = data_lstm['Star'].apply(label)\n",
        "sentences = [item for item in data_lstm['Review']]\n",
        "tokenizer = Tokenizer(num_words = max_words)\n",
        "tokenizer.fit_on_texts(sentences)\n",
        "sequences = tokenizer.texts_to_sequences(sentences)\n",
        "print(len(sequences[1]))\n",
        "print(len(sequences[2]))\n",
        "data_input = pad_sequences(sequences, maxlen = maxlen)\n",
        "labels = np.asarray(sentences)\n",
        "df_final_lstm = pd.DataFrame(data_input)\n",
        "df_final_lstm['label'] = data_lstm['label']"
      ],
      "metadata": {
        "colab": {
          "base_uri": "https://localhost:8080/"
        },
        "id": "hjWuHIbo8as9",
        "outputId": "95f3b83a-21d9-462e-9415-8db9b5c04335"
      },
      "id": "hjWuHIbo8as9",
      "execution_count": null,
      "outputs": [
        {
          "output_type": "stream",
          "name": "stdout",
          "text": [
            "314\n",
            "266\n"
          ]
        }
      ]
    },
    {
      "cell_type": "code",
      "source": [
        "data_lstm.head()"
      ],
      "metadata": {
        "colab": {
          "base_uri": "https://localhost:8080/",
          "height": 476
        },
        "id": "asYkYEU89u_a",
        "outputId": "e2339823-2230-46c2-885c-1294c4d3b7f3"
      },
      "id": "asYkYEU89u_a",
      "execution_count": null,
      "outputs": [
        {
          "output_type": "execute_result",
          "data": {
            "text/plain": [
              "                  User_id                  Bus_id  Star  Useful  Cool  Funny  \\\n",
              "0  4hBhtCSgoxkrFgHa4YAD-w  bbEXAEFr4RYHLlZ-HFssTA   5.0       0     0      0   \n",
              "1  JYYYKt6TdVA4ng9lLcXt_g  SZU9c8V2GuREDN5KgyHFJw   5.0       0     0      0   \n",
              "2  Uk3X2AypU8AqvcYEVf7s6Q  eL4lyE7LNoXEMvpcJ8WNVw   3.0       5     0      0   \n",
              "3  LcqNuhqaYt5ekKzaRirmIg  SZU9c8V2GuREDN5KgyHFJw   5.0       2     1      0   \n",
              "4  gasLVm0KRwrVhPGRcqATjw  CHh0ZFrQcsk4boOItr2Zuw   4.0       1     2      0   \n",
              "\n",
              "                                              Review State           City  \\\n",
              "0  Great burgers,fries and salad!  Burgers have a...    CA         Goleta   \n",
              "1  We were a bit weary about trying the Shellfish...    CA  Santa Barbara   \n",
              "2  This was a tough one!   On the merits of the w...    CA  Santa Barbara   \n",
              "3  I love trying fresh seafood on piers, wharfs a...    CA  Santa Barbara   \n",
              "4  I stopped in because I was hungry for some sna...    CA    Carpinteria   \n",
              "\n",
              "   Bus_Ave_Star  User_Review_count  User_Useful_count  User_Funny_count  \\\n",
              "0           4.0                922               1687               694   \n",
              "1           4.0                338                800               144   \n",
              "2           4.0                431               2126              1245   \n",
              "3           4.0                258                452               125   \n",
              "4           3.0               1638               2658               933   \n",
              "\n",
              "   User_Cool_count                                              Elite  \\\n",
              "0             1070                2015,2016,2017,2018,2019,20,20,2021   \n",
              "1              353  2012,2013,2014,2015,2016,2017,2018,2019,20,20,...   \n",
              "2             1476  2012,2013,2014,2015,2016,2017,2018,2019,20,20,...   \n",
              "3              183                                     2015,2016,2017   \n",
              "4             2297           2014,2015,2016,2017,2018,2019,20,20,2021   \n",
              "\n",
              "   User_Fans  Users_Ave_Star  label  \n",
              "0         51            4.20      1  \n",
              "1         30            4.12      1  \n",
              "2         76            4.05      0  \n",
              "3         37            3.99      1  \n",
              "4        105            3.79      1  "
            ],
            "text/html": [
              "\n",
              "  <div id=\"df-9c528d2b-b5ba-4aec-91de-dbfc02aadf42\">\n",
              "    <div class=\"colab-df-container\">\n",
              "      <div>\n",
              "<style scoped>\n",
              "    .dataframe tbody tr th:only-of-type {\n",
              "        vertical-align: middle;\n",
              "    }\n",
              "\n",
              "    .dataframe tbody tr th {\n",
              "        vertical-align: top;\n",
              "    }\n",
              "\n",
              "    .dataframe thead th {\n",
              "        text-align: right;\n",
              "    }\n",
              "</style>\n",
              "<table border=\"1\" class=\"dataframe\">\n",
              "  <thead>\n",
              "    <tr style=\"text-align: right;\">\n",
              "      <th></th>\n",
              "      <th>User_id</th>\n",
              "      <th>Bus_id</th>\n",
              "      <th>Star</th>\n",
              "      <th>Useful</th>\n",
              "      <th>Cool</th>\n",
              "      <th>Funny</th>\n",
              "      <th>Review</th>\n",
              "      <th>State</th>\n",
              "      <th>City</th>\n",
              "      <th>Bus_Ave_Star</th>\n",
              "      <th>User_Review_count</th>\n",
              "      <th>User_Useful_count</th>\n",
              "      <th>User_Funny_count</th>\n",
              "      <th>User_Cool_count</th>\n",
              "      <th>Elite</th>\n",
              "      <th>User_Fans</th>\n",
              "      <th>Users_Ave_Star</th>\n",
              "      <th>label</th>\n",
              "    </tr>\n",
              "  </thead>\n",
              "  <tbody>\n",
              "    <tr>\n",
              "      <th>0</th>\n",
              "      <td>4hBhtCSgoxkrFgHa4YAD-w</td>\n",
              "      <td>bbEXAEFr4RYHLlZ-HFssTA</td>\n",
              "      <td>5.0</td>\n",
              "      <td>0</td>\n",
              "      <td>0</td>\n",
              "      <td>0</td>\n",
              "      <td>Great burgers,fries and salad!  Burgers have a...</td>\n",
              "      <td>CA</td>\n",
              "      <td>Goleta</td>\n",
              "      <td>4.0</td>\n",
              "      <td>922</td>\n",
              "      <td>1687</td>\n",
              "      <td>694</td>\n",
              "      <td>1070</td>\n",
              "      <td>2015,2016,2017,2018,2019,20,20,2021</td>\n",
              "      <td>51</td>\n",
              "      <td>4.20</td>\n",
              "      <td>1</td>\n",
              "    </tr>\n",
              "    <tr>\n",
              "      <th>1</th>\n",
              "      <td>JYYYKt6TdVA4ng9lLcXt_g</td>\n",
              "      <td>SZU9c8V2GuREDN5KgyHFJw</td>\n",
              "      <td>5.0</td>\n",
              "      <td>0</td>\n",
              "      <td>0</td>\n",
              "      <td>0</td>\n",
              "      <td>We were a bit weary about trying the Shellfish...</td>\n",
              "      <td>CA</td>\n",
              "      <td>Santa Barbara</td>\n",
              "      <td>4.0</td>\n",
              "      <td>338</td>\n",
              "      <td>800</td>\n",
              "      <td>144</td>\n",
              "      <td>353</td>\n",
              "      <td>2012,2013,2014,2015,2016,2017,2018,2019,20,20,...</td>\n",
              "      <td>30</td>\n",
              "      <td>4.12</td>\n",
              "      <td>1</td>\n",
              "    </tr>\n",
              "    <tr>\n",
              "      <th>2</th>\n",
              "      <td>Uk3X2AypU8AqvcYEVf7s6Q</td>\n",
              "      <td>eL4lyE7LNoXEMvpcJ8WNVw</td>\n",
              "      <td>3.0</td>\n",
              "      <td>5</td>\n",
              "      <td>0</td>\n",
              "      <td>0</td>\n",
              "      <td>This was a tough one!   On the merits of the w...</td>\n",
              "      <td>CA</td>\n",
              "      <td>Santa Barbara</td>\n",
              "      <td>4.0</td>\n",
              "      <td>431</td>\n",
              "      <td>2126</td>\n",
              "      <td>1245</td>\n",
              "      <td>1476</td>\n",
              "      <td>2012,2013,2014,2015,2016,2017,2018,2019,20,20,...</td>\n",
              "      <td>76</td>\n",
              "      <td>4.05</td>\n",
              "      <td>0</td>\n",
              "    </tr>\n",
              "    <tr>\n",
              "      <th>3</th>\n",
              "      <td>LcqNuhqaYt5ekKzaRirmIg</td>\n",
              "      <td>SZU9c8V2GuREDN5KgyHFJw</td>\n",
              "      <td>5.0</td>\n",
              "      <td>2</td>\n",
              "      <td>1</td>\n",
              "      <td>0</td>\n",
              "      <td>I love trying fresh seafood on piers, wharfs a...</td>\n",
              "      <td>CA</td>\n",
              "      <td>Santa Barbara</td>\n",
              "      <td>4.0</td>\n",
              "      <td>258</td>\n",
              "      <td>452</td>\n",
              "      <td>125</td>\n",
              "      <td>183</td>\n",
              "      <td>2015,2016,2017</td>\n",
              "      <td>37</td>\n",
              "      <td>3.99</td>\n",
              "      <td>1</td>\n",
              "    </tr>\n",
              "    <tr>\n",
              "      <th>4</th>\n",
              "      <td>gasLVm0KRwrVhPGRcqATjw</td>\n",
              "      <td>CHh0ZFrQcsk4boOItr2Zuw</td>\n",
              "      <td>4.0</td>\n",
              "      <td>1</td>\n",
              "      <td>2</td>\n",
              "      <td>0</td>\n",
              "      <td>I stopped in because I was hungry for some sna...</td>\n",
              "      <td>CA</td>\n",
              "      <td>Carpinteria</td>\n",
              "      <td>3.0</td>\n",
              "      <td>1638</td>\n",
              "      <td>2658</td>\n",
              "      <td>933</td>\n",
              "      <td>2297</td>\n",
              "      <td>2014,2015,2016,2017,2018,2019,20,20,2021</td>\n",
              "      <td>105</td>\n",
              "      <td>3.79</td>\n",
              "      <td>1</td>\n",
              "    </tr>\n",
              "  </tbody>\n",
              "</table>\n",
              "</div>\n",
              "      <button class=\"colab-df-convert\" onclick=\"convertToInteractive('df-9c528d2b-b5ba-4aec-91de-dbfc02aadf42')\"\n",
              "              title=\"Convert this dataframe to an interactive table.\"\n",
              "              style=\"display:none;\">\n",
              "        \n",
              "  <svg xmlns=\"http://www.w3.org/2000/svg\" height=\"24px\"viewBox=\"0 0 24 24\"\n",
              "       width=\"24px\">\n",
              "    <path d=\"M0 0h24v24H0V0z\" fill=\"none\"/>\n",
              "    <path d=\"M18.56 5.44l.94 2.06.94-2.06 2.06-.94-2.06-.94-.94-2.06-.94 2.06-2.06.94zm-11 1L8.5 8.5l.94-2.06 2.06-.94-2.06-.94L8.5 2.5l-.94 2.06-2.06.94zm10 10l.94 2.06.94-2.06 2.06-.94-2.06-.94-.94-2.06-.94 2.06-2.06.94z\"/><path d=\"M17.41 7.96l-1.37-1.37c-.4-.4-.92-.59-1.43-.59-.52 0-1.04.2-1.43.59L10.3 9.45l-7.72 7.72c-.78.78-.78 2.05 0 2.83L4 21.41c.39.39.9.59 1.41.59.51 0 1.02-.2 1.41-.59l7.78-7.78 2.81-2.81c.8-.78.8-2.07 0-2.86zM5.41 20L4 18.59l7.72-7.72 1.47 1.35L5.41 20z\"/>\n",
              "  </svg>\n",
              "      </button>\n",
              "      \n",
              "  <style>\n",
              "    .colab-df-container {\n",
              "      display:flex;\n",
              "      flex-wrap:wrap;\n",
              "      gap: 12px;\n",
              "    }\n",
              "\n",
              "    .colab-df-convert {\n",
              "      background-color: #E8F0FE;\n",
              "      border: none;\n",
              "      border-radius: 50%;\n",
              "      cursor: pointer;\n",
              "      display: none;\n",
              "      fill: #1967D2;\n",
              "      height: 32px;\n",
              "      padding: 0 0 0 0;\n",
              "      width: 32px;\n",
              "    }\n",
              "\n",
              "    .colab-df-convert:hover {\n",
              "      background-color: #E2EBFA;\n",
              "      box-shadow: 0px 1px 2px rgba(60, 64, 67, 0.3), 0px 1px 3px 1px rgba(60, 64, 67, 0.15);\n",
              "      fill: #174EA6;\n",
              "    }\n",
              "\n",
              "    [theme=dark] .colab-df-convert {\n",
              "      background-color: #3B4455;\n",
              "      fill: #D2E3FC;\n",
              "    }\n",
              "\n",
              "    [theme=dark] .colab-df-convert:hover {\n",
              "      background-color: #434B5C;\n",
              "      box-shadow: 0px 1px 3px 1px rgba(0, 0, 0, 0.15);\n",
              "      filter: drop-shadow(0px 1px 2px rgba(0, 0, 0, 0.3));\n",
              "      fill: #FFFFFF;\n",
              "    }\n",
              "  </style>\n",
              "\n",
              "      <script>\n",
              "        const buttonEl =\n",
              "          document.querySelector('#df-9c528d2b-b5ba-4aec-91de-dbfc02aadf42 button.colab-df-convert');\n",
              "        buttonEl.style.display =\n",
              "          google.colab.kernel.accessAllowed ? 'block' : 'none';\n",
              "\n",
              "        async function convertToInteractive(key) {\n",
              "          const element = document.querySelector('#df-9c528d2b-b5ba-4aec-91de-dbfc02aadf42');\n",
              "          const dataTable =\n",
              "            await google.colab.kernel.invokeFunction('convertToInteractive',\n",
              "                                                     [key], {});\n",
              "          if (!dataTable) return;\n",
              "\n",
              "          const docLinkHtml = 'Like what you see? Visit the ' +\n",
              "            '<a target=\"_blank\" href=https://colab.research.google.com/notebooks/data_table.ipynb>data table notebook</a>'\n",
              "            + ' to learn more about interactive tables.';\n",
              "          element.innerHTML = '';\n",
              "          dataTable['output_type'] = 'display_data';\n",
              "          await google.colab.output.renderOutput(dataTable, element);\n",
              "          const docLink = document.createElement('div');\n",
              "          docLink.innerHTML = docLinkHtml;\n",
              "          element.appendChild(docLink);\n",
              "        }\n",
              "      </script>\n",
              "    </div>\n",
              "  </div>\n",
              "  "
            ]
          },
          "metadata": {},
          "execution_count": 10
        }
      ]
    },
    {
      "cell_type": "code",
      "source": [
        "X = df_final_lstm.drop(columns = ['label'])\n",
        "Y = df_final_lstm['label']\n",
        "x_train,x_test,y_train,y_test=train_test_split(X,Y,test_size=0.2) #Test to Train ratio is 2:8"
      ],
      "metadata": {
        "id": "uPQr1vLz9hSZ"
      },
      "id": "uPQr1vLz9hSZ",
      "execution_count": null,
      "outputs": []
    },
    {
      "cell_type": "code",
      "source": [
        "df_final_lstm.shape"
      ],
      "metadata": {
        "colab": {
          "base_uri": "https://localhost:8080/"
        },
        "id": "TJkOYPA_WlK2",
        "outputId": "24feb8d7-97c7-4c90-928a-fc59cdba2be7"
      },
      "id": "TJkOYPA_WlK2",
      "execution_count": null,
      "outputs": [
        {
          "output_type": "execute_result",
          "data": {
            "text/plain": [
              "(53845, 201)"
            ]
          },
          "metadata": {},
          "execution_count": 54
        }
      ]
    },
    {
      "cell_type": "code",
      "source": [
        "history2 = model.fit(x_train,y_train, epochs = 15, batch_size = 128, validation_split=0.2)"
      ],
      "metadata": {
        "colab": {
          "base_uri": "https://localhost:8080/"
        },
        "id": "ohvb9fM49l8G",
        "outputId": "0a139fd6-4bad-47e0-f1f6-f8b8b286ded3"
      },
      "id": "ohvb9fM49l8G",
      "execution_count": null,
      "outputs": [
        {
          "output_type": "stream",
          "name": "stdout",
          "text": [
            "Epoch 1/15\n",
            "270/270 [==============================] - 113s 404ms/step - loss: 0.5045 - acc: 0.7553 - val_loss: 0.3961 - val_acc: 0.8153\n",
            "Epoch 2/15\n",
            "270/270 [==============================] - 106s 391ms/step - loss: 0.3388 - acc: 0.8570 - val_loss: 0.3461 - val_acc: 0.8498\n",
            "Epoch 3/15\n",
            "270/270 [==============================] - 110s 407ms/step - loss: 0.2745 - acc: 0.8891 - val_loss: 0.3412 - val_acc: 0.8496\n",
            "Epoch 4/15\n",
            "270/270 [==============================] - 107s 395ms/step - loss: 0.2432 - acc: 0.9042 - val_loss: 0.3393 - val_acc: 0.8548\n",
            "Epoch 5/15\n",
            "270/270 [==============================] - 107s 395ms/step - loss: 0.2113 - acc: 0.9190 - val_loss: 0.3779 - val_acc: 0.8574\n",
            "Epoch 6/15\n",
            "270/270 [==============================] - 110s 407ms/step - loss: 0.1833 - acc: 0.9309 - val_loss: 0.3759 - val_acc: 0.8558\n",
            "Epoch 7/15\n",
            "270/270 [==============================] - 106s 393ms/step - loss: 0.1687 - acc: 0.9370 - val_loss: 0.4664 - val_acc: 0.8471\n",
            "Epoch 8/15\n",
            "270/270 [==============================] - 108s 399ms/step - loss: 0.1471 - acc: 0.9450 - val_loss: 0.4607 - val_acc: 0.8519\n",
            "Epoch 9/15\n",
            "270/270 [==============================] - 109s 404ms/step - loss: 0.1268 - acc: 0.9535 - val_loss: 0.4768 - val_acc: 0.8513\n",
            "Epoch 10/15\n",
            "270/270 [==============================] - 106s 394ms/step - loss: 0.1116 - acc: 0.9604 - val_loss: 0.5612 - val_acc: 0.8477\n",
            "Epoch 11/15\n",
            "270/270 [==============================] - 106s 394ms/step - loss: 0.1071 - acc: 0.9623 - val_loss: 0.5437 - val_acc: 0.8434\n",
            "Epoch 12/15\n",
            "270/270 [==============================] - 120s 443ms/step - loss: 0.1008 - acc: 0.9654 - val_loss: 0.5449 - val_acc: 0.8424\n",
            "Epoch 13/15\n",
            "270/270 [==============================] - 107s 397ms/step - loss: 0.0985 - acc: 0.9651 - val_loss: 0.6482 - val_acc: 0.8432\n",
            "Epoch 14/15\n",
            "270/270 [==============================] - 111s 411ms/step - loss: 0.0809 - acc: 0.9720 - val_loss: 0.6087 - val_acc: 0.8413\n",
            "Epoch 15/15\n",
            "270/270 [==============================] - 106s 393ms/step - loss: 0.0711 - acc: 0.9764 - val_loss: 0.6397 - val_acc: 0.8387\n"
          ]
        }
      ]
    },
    {
      "cell_type": "code",
      "source": [
        "acc = history2.history['acc']\n",
        "val_acc = history2.history['val_acc']\n",
        "loss = history2.history['loss']\n",
        "val_loss = history2.history['val_loss']\n",
        "\n",
        "epochs = range(len(acc))\n",
        "\n",
        "plt.plot(epochs, acc, 'bo', label='Training acc')\n",
        "plt.plot(epochs, val_acc, 'b', label='Validation acc')\n",
        "plt.title('Training and validation accuracy')\n",
        "plt.legend()\n",
        "\n",
        "plt.figure()\n",
        "\n",
        "plt.plot(epochs, loss, 'bo', label='Training loss')\n",
        "plt.plot(epochs, val_loss, 'b', label='Validation loss')\n",
        "plt.title('Training and validation loss')\n",
        "plt.legend()\n",
        "\n",
        "plt.show()"
      ],
      "metadata": {
        "colab": {
          "base_uri": "https://localhost:8080/",
          "height": 545
        },
        "id": "8JjyICdY9o9R",
        "outputId": "5bbbbbc0-31c8-40dd-ad3b-2b4320801aff"
      },
      "id": "8JjyICdY9o9R",
      "execution_count": null,
      "outputs": [
        {
          "output_type": "display_data",
          "data": {
            "text/plain": [
              "<Figure size 432x288 with 1 Axes>"
            ],
            "image/png": "[encoded data removed]"
          },
          "metadata": {
            "needs_background": "light"
          }
        },
        {
          "output_type": "display_data",
          "data": {
            "text/plain": [
              "<Figure size 432x288 with 1 Axes>"
            ],
            "image/png": "[encoded data removed]"
          },
          "metadata": {
            "needs_background": "light"
          }
        }
      ]
    },
    {
      "cell_type": "code",
      "source": [
        "model.evaluate(x_test, y_test)"
      ],
      "metadata": {
        "colab": {
          "base_uri": "https://localhost:8080/"
        },
        "id": "fbL1BYO4-Jvf",
        "outputId": "99714486-9810-458f-e3da-a1dbe58db7b0"
      },
      "id": "fbL1BYO4-Jvf",
      "execution_count": null,
      "outputs": [
        {
          "output_type": "stream",
          "name": "stdout",
          "text": [
            "337/337 [==============================] - 10s 28ms/step - loss: 0.6293 - acc: 0.8388\n"
          ]
        },
        {
          "output_type": "execute_result",
          "data": {
            "text/plain": [
              "[0.6292725205421448, 0.8387965559959412]"
            ]
          },
          "metadata": {},
          "execution_count": 57
        }
      ]
    },
    {
      "cell_type": "markdown",
      "source": [
        "Let's try with stars not label this time"
      ],
      "metadata": {
        "id": "GIj6_Kaf-doR"
      },
      "id": "GIj6_Kaf-doR"
    },
    {
      "cell_type": "code",
      "source": [
        "max_words = 10000\n",
        "maxlen = 200\n",
        "model = Sequential()\n",
        "model.add(Embedding(max_words,64,input_length = maxlen))\n",
        "model.add(LSTM(32, dropout = 0.2, recurrent_dropout = 0.2))\n",
        "model.add(Dense(6, activation = 'sigmoid'))\n",
        "model.compile(optimizer = 'adam', loss = 'sparse_categorical_crossentropy', metrics = ['acc'])\n",
        "model.summary()"
      ],
      "metadata": {
        "colab": {
          "base_uri": "https://localhost:8080/"
        },
        "id": "QSe01rEVgr5T",
        "outputId": "42668f09-55ce-47e8-e3b9-d802f85e188e"
      },
      "id": "QSe01rEVgr5T",
      "execution_count": null,
      "outputs": [
        {
          "output_type": "stream",
          "name": "stdout",
          "text": [
            "Model: \"sequential_13\"\n",
            "_________________________________________________________________\n",
            " Layer (type)                Output Shape              Param #   \n",
            "=================================================================\n",
            " embedding_13 (Embedding)    (None, 200, 64)           640000    \n",
            "                                                                 \n",
            " lstm_13 (LSTM)              (None, 32)                12416     \n",
            "                                                                 \n",
            " dense_13 (Dense)            (None, 6)                 198       \n",
            "                                                                 \n",
            "=================================================================\n",
            "Total params: 652,614\n",
            "Trainable params: 652,614\n",
            "Non-trainable params: 0\n",
            "_________________________________________________________________\n"
          ]
        }
      ]
    },
    {
      "cell_type": "code",
      "source": [
        "df_final_lstm['Star'] = data_lstm['Star']\n",
        "X = df_final_lstm.iloc[:,:200]\n",
        "Y = df_final_lstm['Star']\n",
        "x_train,x_test,y_train,y_test=train_test_split(X,Y,test_size=0.2) #Test to Train ratio is 2:8"
      ],
      "metadata": {
        "id": "ysvxSTQW-MX4"
      },
      "id": "ysvxSTQW-MX4",
      "execution_count": null,
      "outputs": []
    },
    {
      "cell_type": "code",
      "source": [
        "history3 = model.fit(x_train,y_train, epochs = 15, batch_size = 128, validation_split=0.2)"
      ],
      "metadata": {
        "colab": {
          "base_uri": "https://localhost:8080/"
        },
        "id": "Qmn7WJv1-kql",
        "outputId": "99399672-f647-4d0c-98a8-3fe3fc6bc841"
      },
      "id": "Qmn7WJv1-kql",
      "execution_count": null,
      "outputs": [
        {
          "output_type": "stream",
          "name": "stdout",
          "text": [
            "Epoch 1/15\n",
            "270/270 [==============================] - 114s 399ms/step - loss: 1.2679 - acc: 0.4357 - val_loss: 1.0796 - val_acc: 0.5158\n",
            "Epoch 2/15\n",
            "270/270 [==============================] - 110s 406ms/step - loss: 1.0017 - acc: 0.5467 - val_loss: 0.9611 - val_acc: 0.5721\n",
            "Epoch 3/15\n",
            "270/270 [==============================] - 107s 397ms/step - loss: 0.8853 - acc: 0.6093 - val_loss: 0.9682 - val_acc: 0.5765\n",
            "Epoch 4/15\n",
            "270/270 [==============================] - 107s 397ms/step - loss: 0.8113 - acc: 0.6463 - val_loss: 0.9619 - val_acc: 0.5811\n",
            "Epoch 5/15\n",
            "270/270 [==============================] - 110s 406ms/step - loss: 0.7527 - acc: 0.6757 - val_loss: 0.9842 - val_acc: 0.5740\n",
            "Epoch 6/15\n",
            "270/270 [==============================] - 107s 397ms/step - loss: 0.7015 - acc: 0.7034 - val_loss: 0.9923 - val_acc: 0.5616\n",
            "Epoch 7/15\n",
            "270/270 [==============================] - 107s 397ms/step - loss: 0.6562 - acc: 0.7284 - val_loss: 1.0238 - val_acc: 0.5681\n",
            "Epoch 8/15\n",
            "270/270 [==============================] - 109s 406ms/step - loss: 0.6177 - acc: 0.7477 - val_loss: 1.0910 - val_acc: 0.5689\n",
            "Epoch 9/15\n",
            "270/270 [==============================] - 110s 406ms/step - loss: 0.5788 - acc: 0.7659 - val_loss: 1.1400 - val_acc: 0.5581\n",
            "Epoch 10/15\n",
            "270/270 [==============================] - 109s 404ms/step - loss: 0.5392 - acc: 0.7879 - val_loss: 1.1400 - val_acc: 0.5607\n",
            "Epoch 11/15\n",
            "270/270 [==============================] - 107s 395ms/step - loss: 0.5101 - acc: 0.8019 - val_loss: 1.1901 - val_acc: 0.5585\n",
            "Epoch 12/15\n",
            "270/270 [==============================] - 107s 395ms/step - loss: 0.4697 - acc: 0.8205 - val_loss: 1.2426 - val_acc: 0.5516\n",
            "Epoch 13/15\n",
            "270/270 [==============================] - 109s 402ms/step - loss: 0.4420 - acc: 0.8323 - val_loss: 1.3300 - val_acc: 0.5477\n",
            "Epoch 14/15\n",
            "270/270 [==============================] - 106s 393ms/step - loss: 0.4116 - acc: 0.8469 - val_loss: 1.3802 - val_acc: 0.5472\n",
            "Epoch 15/15\n",
            "270/270 [==============================] - 106s 393ms/step - loss: 0.3882 - acc: 0.8573 - val_loss: 1.4306 - val_acc: 0.5543\n"
          ]
        }
      ]
    },
    {
      "cell_type": "code",
      "source": [
        "acc = history3.history['acc']\n",
        "val_acc = history3.history['val_acc']\n",
        "loss = history3.history['loss']\n",
        "val_loss = history3.history['val_loss']\n",
        "\n",
        "epochs = range(len(acc))\n",
        "\n",
        "plt.plot(epochs, acc, 'bo', label='Training acc')\n",
        "plt.plot(epochs, val_acc, 'b', label='Validation acc')\n",
        "plt.title('Training and validation accuracy')\n",
        "plt.legend()\n",
        "\n",
        "plt.figure()\n",
        "\n",
        "plt.plot(epochs, loss, 'bo', label='Training loss')\n",
        "plt.plot(epochs, val_loss, 'b', label='Validation loss')\n",
        "plt.title('Training and validation loss')\n",
        "plt.legend()\n",
        "\n",
        "plt.show()"
      ],
      "metadata": {
        "colab": {
          "base_uri": "https://localhost:8080/",
          "height": 545
        },
        "id": "PenPdM93-yx6",
        "outputId": "ea1b94da-6ee0-451a-b901-1e6f72007e16"
      },
      "id": "PenPdM93-yx6",
      "execution_count": null,
      "outputs": [
        {
          "output_type": "display_data",
          "data": {
            "text/plain": [
              "<Figure size 432x288 with 1 Axes>"
            ],
            "image/png": "[encoded data removed]"
          },
          "metadata": {
            "needs_background": "light"
          }
        },
        {
          "output_type": "display_data",
          "data": {
            "text/plain": [
              "<Figure size 432x288 with 1 Axes>"
            ],
            "image/png": "[encoded data removed]"
          },
          "metadata": {
            "needs_background": "light"
          }
        }
      ]
    },
    {
      "cell_type": "code",
      "source": [
        "model.evaluate(x_test, y_test)"
      ],
      "metadata": {
        "colab": {
          "base_uri": "https://localhost:8080/"
        },
        "id": "c4PCfPGx-4BX",
        "outputId": "1c1b0121-f9ba-4427-f4bf-f6432682c378"
      },
      "id": "c4PCfPGx-4BX",
      "execution_count": null,
      "outputs": [
        {
          "output_type": "stream",
          "name": "stdout",
          "text": [
            "337/337 [==============================] - 9s 28ms/step - loss: 1.4361 - acc: 0.5539\n"
          ]
        },
        {
          "output_type": "execute_result",
          "data": {
            "text/plain": [
              "[1.4361037015914917, 0.5539047122001648]"
            ]
          },
          "metadata": {},
          "execution_count": 67
        }
      ]
    },
    {
      "cell_type": "markdown",
      "source": [
        "Tune our random forest to its finest"
      ],
      "metadata": {
        "id": "FMYu2HKNQUXF"
      },
      "id": "FMYu2HKNQUXF"
    },
    {
      "cell_type": "code",
      "source": [
        "def compute_polarity(text):\n",
        "    return TextBlob(text).sentiment.polarity\n",
        "def compute_subjectivity(text):\n",
        "    return TextBlob(text).sentiment.subjectivity\n",
        "def label(text):\n",
        "    if text > 3:\n",
        "        return 1\n",
        "    else:\n",
        "        return 0"
      ],
      "metadata": {
        "id": "Tvgm5cQ2hzNE"
      },
      "id": "Tvgm5cQ2hzNE",
      "execution_count": null,
      "outputs": []
    },
    {
      "cell_type": "code",
      "source": [
        "data_test = data.copy()\n",
        "data_test['Review'] = data_test['Review'].apply(remove_punc_stopword)\n",
        "data_test['Review'] = data_test['Review'].str.join(' ')\n",
        "data_test['Review_polarity'] = data_test['Review'].apply(compute_polarity)\n",
        "data_test['Review_subjectivity'] = data_test['Review'].apply(compute_subjectivity)\n",
        "data_test['label'] = data_test['Star'].apply(label)"
      ],
      "metadata": {
        "id": "lO5u7WmSiHqJ"
      },
      "id": "lO5u7WmSiHqJ",
      "execution_count": null,
      "outputs": []
    },
    {
      "cell_type": "code",
      "source": [
        "X = data_test[['Useful','Cool','Funny','Bus_Ave_Star','User_Review_count','User_Useful_count','User_Funny_count','User_Cool_count','User_Fans','Users_Ave_Star','Review_polarity','Review_subjectivity']]\n",
        "Y = data_test['label']\n",
        "x_train,x_test,y_train,y_test=train_test_split(X,Y,test_size=0.2)"
      ],
      "metadata": {
        "id": "B6uCQpKeiXXO"
      },
      "id": "B6uCQpKeiXXO",
      "execution_count": null,
      "outputs": []
    },
    {
      "cell_type": "code",
      "source": [
        "from sklearn.model_selection import RandomizedSearchCV"
      ],
      "metadata": {
        "id": "zDNouoj_QdEa"
      },
      "id": "zDNouoj_QdEa",
      "execution_count": null,
      "outputs": []
    },
    {
      "cell_type": "code",
      "source": [
        "# Number of trees in random forest\n",
        "n_estimators = [int(x) for x in np.linspace(start = 200, stop = 2000, num = 10)]\n",
        "# Number of features to consider at every split\n",
        "max_features = ['auto', 'sqrt']\n",
        "# Maximum number of levels in tree\n",
        "max_depth = [int(x) for x in np.linspace(10, 110, num = 11)]\n",
        "max_depth.append(None)\n",
        "# Minimum number of samples required to split a node\n",
        "min_samples_split = [2, 5, 10]\n",
        "# Minimum number of samples required at each leaf node\n",
        "min_samples_leaf = [1, 2, 4]\n",
        "# Method of selecting samples for training each tree\n",
        "bootstrap = [True, False]\n",
        "# Create the random grid\n",
        "random_grid = {'n_estimators': n_estimators,\n",
        "               'max_features': max_features,\n",
        "               'max_depth': max_depth,\n",
        "               'min_samples_split': min_samples_split,\n",
        "               'min_samples_leaf': min_samples_leaf,\n",
        "               'bootstrap': bootstrap}\n",
        "\n",
        "print(random_grid)"
      ],
      "metadata": {
        "colab": {
          "base_uri": "https://localhost:8080/"
        },
        "id": "syHQ_ksoQiqE",
        "outputId": "b2dbbf99-b561-48ee-89e5-bbca7fb5d828"
      },
      "id": "syHQ_ksoQiqE",
      "execution_count": null,
      "outputs": [
        {
          "output_type": "stream",
          "name": "stdout",
          "text": [
            "{'n_estimators': [200, 400, 600, 800, 1000, 1200, 1400, 1600, 1800, 2000], 'max_features': ['auto', 'sqrt'], 'max_depth': [10, 20, 30, 40, 50, 60, 70, 80, 90, 100, 110, None], 'min_samples_split': [2, 5, 10], 'min_samples_leaf': [1, 2, 4], 'bootstrap': [True, False]}\n"
          ]
        }
      ]
    },
    {
      "cell_type": "code",
      "source": [
        "# Use the random grid to search for best hyperparameters\n",
        "# First create the base model to tune\n",
        "rf = RandomForestClassifier()\n",
        "# Random search of parameters, using 3 fold cross validation,\n",
        "# search across 100 different combinations, and use all available cores\n",
        "rf_random = RandomizedSearchCV(estimator = rf, param_distributions = random_grid, n_iter = 100, cv = 3, verbose=2, random_state=42, n_jobs = -1)\n",
        "# Fit the random search model\n",
        "rf_random.fit(x_train, y_train)"
      ],
      "metadata": {
        "colab": {
          "base_uri": "https://localhost:8080/",
          "height": 445
        },
        "id": "WUU03dlVQp-C",
        "outputId": "07084aa2-0adb-4f7a-ff5a-1ceafe41459f"
      },
      "id": "WUU03dlVQp-C",
      "execution_count": null,
      "outputs": [
        {
          "metadata": {
            "tags": null
          },
          "name": "stdout",
          "output_type": "stream",
          "text": [
            "Fitting 3 folds for each of 100 candidates, totalling 300 fits\n"
          ]
        },
        {
          "metadata": {
            "tags": null
          },
          "name": "stderr",
          "output_type": "stream",
          "text": [
            "/usr/local/lib/python3.8/dist-packages/joblib/externals/loky/process_executor.py:700: UserWarning: A worker stopped while some jobs were given to the executor. This can be caused by a too short worker timeout or by a memory leak.\n",
            "  warnings.warn(\n"
          ]
        },
        {
          "output_type": "error",
          "ename": "KeyboardInterrupt",
          "evalue": "ignored",
          "traceback": [
            "\u001b[0;31m---------------------------------------------------------------------------\u001b[0m",
            "\u001b[0;31mKeyboardInterrupt\u001b[0m                         Traceback (most recent call last)",
            "\u001b[0;32m<ipython-input-16-aa9d63529d20>\u001b[0m in \u001b[0;36m<module>\u001b[0;34m\u001b[0m\n\u001b[1;32m      6\u001b[0m \u001b[0mrf_random\u001b[0m \u001b[0;34m=\u001b[0m \u001b[0mRandomizedSearchCV\u001b[0m\u001b[0;34m(\u001b[0m\u001b[0mestimator\u001b[0m \u001b[0;34m=\u001b[0m \u001b[0mrf\u001b[0m\u001b[0;34m,\u001b[0m \u001b[0mparam_distributions\u001b[0m \u001b[0;34m=\u001b[0m \u001b[0mrandom_grid\u001b[0m\u001b[0;34m,\u001b[0m \u001b[0mn_iter\u001b[0m \u001b[0;34m=\u001b[0m \u001b[0;36m100\u001b[0m\u001b[0;34m,\u001b[0m \u001b[0mcv\u001b[0m \u001b[0;34m=\u001b[0m \u001b[0;36m3\u001b[0m\u001b[0;34m,\u001b[0m \u001b[0mverbose\u001b[0m\u001b[0;34m=\u001b[0m\u001b[0;36m2\u001b[0m\u001b[0;34m,\u001b[0m \u001b[0mrandom_state\u001b[0m\u001b[0;34m=\u001b[0m\u001b[0;36m42\u001b[0m\u001b[0;34m,\u001b[0m \u001b[0mn_jobs\u001b[0m \u001b[0;34m=\u001b[0m \u001b[0;34m-\u001b[0m\u001b[0;36m1\u001b[0m\u001b[0;34m)\u001b[0m\u001b[0;34m\u001b[0m\u001b[0;34m\u001b[0m\u001b[0m\n\u001b[1;32m      7\u001b[0m \u001b[0;31m# Fit the random search model\u001b[0m\u001b[0;34m\u001b[0m\u001b[0;34m\u001b[0m\u001b[0;34m\u001b[0m\u001b[0m\n\u001b[0;32m----> 8\u001b[0;31m \u001b[0mrf_random\u001b[0m\u001b[0;34m.\u001b[0m\u001b[0mfit\u001b[0m\u001b[0;34m(\u001b[0m\u001b[0mx_train\u001b[0m\u001b[0;34m,\u001b[0m \u001b[0my_train\u001b[0m\u001b[0;34m)\u001b[0m\u001b[0;34m\u001b[0m\u001b[0;34m\u001b[0m\u001b[0m\n\u001b[0m",
            "\u001b[0;32m/usr/local/lib/python3.8/dist-packages/sklearn/model_selection/_search.py\u001b[0m in \u001b[0;36mfit\u001b[0;34m(self, X, y, groups, **fit_params)\u001b[0m\n\u001b[1;32m    889\u001b[0m                 \u001b[0;32mreturn\u001b[0m \u001b[0mresults\u001b[0m\u001b[0;34m\u001b[0m\u001b[0;34m\u001b[0m\u001b[0m\n\u001b[1;32m    890\u001b[0m \u001b[0;34m\u001b[0m\u001b[0m\n\u001b[0;32m--> 891\u001b[0;31m             \u001b[0mself\u001b[0m\u001b[0;34m.\u001b[0m\u001b[0m_run_search\u001b[0m\u001b[0;34m(\u001b[0m\u001b[0mevaluate_candidates\u001b[0m\u001b[0;34m)\u001b[0m\u001b[0;34m\u001b[0m\u001b[0;34m\u001b[0m\u001b[0m\n\u001b[0m\u001b[1;32m    892\u001b[0m \u001b[0;34m\u001b[0m\u001b[0m\n\u001b[1;32m    893\u001b[0m             \u001b[0;31m# multimetric is determined here because in the case of a callable\u001b[0m\u001b[0;34m\u001b[0m\u001b[0;34m\u001b[0m\u001b[0;34m\u001b[0m\u001b[0m\n",
            "\u001b[0;32m/usr/local/lib/python3.8/dist-packages/sklearn/model_selection/_search.py\u001b[0m in \u001b[0;36m_run_search\u001b[0;34m(self, evaluate_candidates)\u001b[0m\n\u001b[1;32m   1764\u001b[0m     \u001b[0;32mdef\u001b[0m \u001b[0m_run_search\u001b[0m\u001b[0;34m(\u001b[0m\u001b[0mself\u001b[0m\u001b[0;34m,\u001b[0m \u001b[0mevaluate_candidates\u001b[0m\u001b[0;34m)\u001b[0m\u001b[0;34m:\u001b[0m\u001b[0;34m\u001b[0m\u001b[0;34m\u001b[0m\u001b[0m\n\u001b[1;32m   1765\u001b[0m         \u001b[0;34m\"\"\"Search n_iter candidates from param_distributions\"\"\"\u001b[0m\u001b[0;34m\u001b[0m\u001b[0;34m\u001b[0m\u001b[0m\n\u001b[0;32m-> 1766\u001b[0;31m         evaluate_candidates(\n\u001b[0m\u001b[1;32m   1767\u001b[0m             ParameterSampler(\n\u001b[1;32m   1768\u001b[0m                 \u001b[0mself\u001b[0m\u001b[0;34m.\u001b[0m\u001b[0mparam_distributions\u001b[0m\u001b[0;34m,\u001b[0m \u001b[0mself\u001b[0m\u001b[0;34m.\u001b[0m\u001b[0mn_iter\u001b[0m\u001b[0;34m,\u001b[0m \u001b[0mrandom_state\u001b[0m\u001b[0;34m=\u001b[0m\u001b[0mself\u001b[0m\u001b[0;34m.\u001b[0m\u001b[0mrandom_state\u001b[0m\u001b[0;34m\u001b[0m\u001b[0;34m\u001b[0m\u001b[0m\n",
            "\u001b[0;32m/usr/local/lib/python3.8/dist-packages/sklearn/model_selection/_search.py\u001b[0m in \u001b[0;36mevaluate_candidates\u001b[0;34m(candidate_params, cv, more_results)\u001b[0m\n\u001b[1;32m    836\u001b[0m                     )\n\u001b[1;32m    837\u001b[0m \u001b[0;34m\u001b[0m\u001b[0m\n\u001b[0;32m--> 838\u001b[0;31m                 out = parallel(\n\u001b[0m\u001b[1;32m    839\u001b[0m                     delayed(_fit_and_score)(\n\u001b[1;32m    840\u001b[0m                         \u001b[0mclone\u001b[0m\u001b[0;34m(\u001b[0m\u001b[0mbase_estimator\u001b[0m\u001b[0;34m)\u001b[0m\u001b[0;34m,\u001b[0m\u001b[0;34m\u001b[0m\u001b[0;34m\u001b[0m\u001b[0m\n",
            "\u001b[0;32m/usr/local/lib/python3.8/dist-packages/joblib/parallel.py\u001b[0m in \u001b[0;36m__call__\u001b[0;34m(self, iterable)\u001b[0m\n\u001b[1;32m   1096\u001b[0m \u001b[0;34m\u001b[0m\u001b[0m\n\u001b[1;32m   1097\u001b[0m             \u001b[0;32mwith\u001b[0m \u001b[0mself\u001b[0m\u001b[0;34m.\u001b[0m\u001b[0m_backend\u001b[0m\u001b[0;34m.\u001b[0m\u001b[0mretrieval_context\u001b[0m\u001b[0;34m(\u001b[0m\u001b[0;34m)\u001b[0m\u001b[0;34m:\u001b[0m\u001b[0;34m\u001b[0m\u001b[0;34m\u001b[0m\u001b[0m\n\u001b[0;32m-> 1098\u001b[0;31m                 \u001b[0mself\u001b[0m\u001b[0;34m.\u001b[0m\u001b[0mretrieve\u001b[0m\u001b[0;34m(\u001b[0m\u001b[0;34m)\u001b[0m\u001b[0;34m\u001b[0m\u001b[0;34m\u001b[0m\u001b[0m\n\u001b[0m\u001b[1;32m   1099\u001b[0m             \u001b[0;31m# Make sure that we get a last message telling us we are done\u001b[0m\u001b[0;34m\u001b[0m\u001b[0;34m\u001b[0m\u001b[0;34m\u001b[0m\u001b[0m\n\u001b[1;32m   1100\u001b[0m             \u001b[0melapsed_time\u001b[0m \u001b[0;34m=\u001b[0m \u001b[0mtime\u001b[0m\u001b[0;34m.\u001b[0m\u001b[0mtime\u001b[0m\u001b[0;34m(\u001b[0m\u001b[0;34m)\u001b[0m \u001b[0;34m-\u001b[0m \u001b[0mself\u001b[0m\u001b[0;34m.\u001b[0m\u001b[0m_start_time\u001b[0m\u001b[0;34m\u001b[0m\u001b[0;34m\u001b[0m\u001b[0m\n",
            "\u001b[0;32m/usr/local/lib/python3.8/dist-packages/joblib/parallel.py\u001b[0m in \u001b[0;36mretrieve\u001b[0;34m(self)\u001b[0m\n\u001b[1;32m    973\u001b[0m             \u001b[0;32mtry\u001b[0m\u001b[0;34m:\u001b[0m\u001b[0;34m\u001b[0m\u001b[0;34m\u001b[0m\u001b[0m\n\u001b[1;32m    974\u001b[0m                 \u001b[0;32mif\u001b[0m \u001b[0mgetattr\u001b[0m\u001b[0;34m(\u001b[0m\u001b[0mself\u001b[0m\u001b[0;34m.\u001b[0m\u001b[0m_backend\u001b[0m\u001b[0;34m,\u001b[0m \u001b[0;34m'supports_timeout'\u001b[0m\u001b[0;34m,\u001b[0m \u001b[0;32mFalse\u001b[0m\u001b[0;34m)\u001b[0m\u001b[0;34m:\u001b[0m\u001b[0;34m\u001b[0m\u001b[0;34m\u001b[0m\u001b[0m\n\u001b[0;32m--> 975\u001b[0;31m                     \u001b[0mself\u001b[0m\u001b[0;34m.\u001b[0m\u001b[0m_output\u001b[0m\u001b[0;34m.\u001b[0m\u001b[0mextend\u001b[0m\u001b[0;34m(\u001b[0m\u001b[0mjob\u001b[0m\u001b[0;34m.\u001b[0m\u001b[0mget\u001b[0m\u001b[0;34m(\u001b[0m\u001b[0mtimeout\u001b[0m\u001b[0;34m=\u001b[0m\u001b[0mself\u001b[0m\u001b[0;34m.\u001b[0m\u001b[0mtimeout\u001b[0m\u001b[0;34m)\u001b[0m\u001b[0;34m)\u001b[0m\u001b[0;34m\u001b[0m\u001b[0;34m\u001b[0m\u001b[0m\n\u001b[0m\u001b[1;32m    976\u001b[0m                 \u001b[0;32melse\u001b[0m\u001b[0;34m:\u001b[0m\u001b[0;34m\u001b[0m\u001b[0;34m\u001b[0m\u001b[0m\n\u001b[1;32m    977\u001b[0m                     \u001b[0mself\u001b[0m\u001b[0;34m.\u001b[0m\u001b[0m_output\u001b[0m\u001b[0;34m.\u001b[0m\u001b[0mextend\u001b[0m\u001b[0;34m(\u001b[0m\u001b[0mjob\u001b[0m\u001b[0;34m.\u001b[0m\u001b[0mget\u001b[0m\u001b[0;34m(\u001b[0m\u001b[0;34m)\u001b[0m\u001b[0;34m)\u001b[0m\u001b[0;34m\u001b[0m\u001b[0;34m\u001b[0m\u001b[0m\n",
            "\u001b[0;32m/usr/local/lib/python3.8/dist-packages/joblib/_parallel_backends.py\u001b[0m in \u001b[0;36mwrap_future_result\u001b[0;34m(future, timeout)\u001b[0m\n\u001b[1;32m    565\u001b[0m         AsyncResults.get from multiprocessing.\"\"\"\n\u001b[1;32m    566\u001b[0m         \u001b[0;32mtry\u001b[0m\u001b[0;34m:\u001b[0m\u001b[0;34m\u001b[0m\u001b[0;34m\u001b[0m\u001b[0m\n\u001b[0;32m--> 567\u001b[0;31m             \u001b[0;32mreturn\u001b[0m \u001b[0mfuture\u001b[0m\u001b[0;34m.\u001b[0m\u001b[0mresult\u001b[0m\u001b[0;34m(\u001b[0m\u001b[0mtimeout\u001b[0m\u001b[0;34m=\u001b[0m\u001b[0mtimeout\u001b[0m\u001b[0;34m)\u001b[0m\u001b[0;34m\u001b[0m\u001b[0;34m\u001b[0m\u001b[0m\n\u001b[0m\u001b[1;32m    568\u001b[0m         \u001b[0;32mexcept\u001b[0m \u001b[0mCfTimeoutError\u001b[0m \u001b[0;32mas\u001b[0m \u001b[0me\u001b[0m\u001b[0;34m:\u001b[0m\u001b[0;34m\u001b[0m\u001b[0;34m\u001b[0m\u001b[0m\n\u001b[1;32m    569\u001b[0m             \u001b[0;32mraise\u001b[0m \u001b[0mTimeoutError\u001b[0m \u001b[0;32mfrom\u001b[0m \u001b[0me\u001b[0m\u001b[0;34m\u001b[0m\u001b[0;34m\u001b[0m\u001b[0m\n",
            "\u001b[0;32m/usr/lib/python3.8/concurrent/futures/_base.py\u001b[0m in \u001b[0;36mresult\u001b[0;34m(self, timeout)\u001b[0m\n\u001b[1;32m    437\u001b[0m                     \u001b[0;32mreturn\u001b[0m \u001b[0mself\u001b[0m\u001b[0;34m.\u001b[0m\u001b[0m__get_result\u001b[0m\u001b[0;34m(\u001b[0m\u001b[0;34m)\u001b[0m\u001b[0;34m\u001b[0m\u001b[0;34m\u001b[0m\u001b[0m\n\u001b[1;32m    438\u001b[0m \u001b[0;34m\u001b[0m\u001b[0m\n\u001b[0;32m--> 439\u001b[0;31m                 \u001b[0mself\u001b[0m\u001b[0;34m.\u001b[0m\u001b[0m_condition\u001b[0m\u001b[0;34m.\u001b[0m\u001b[0mwait\u001b[0m\u001b[0;34m(\u001b[0m\u001b[0mtimeout\u001b[0m\u001b[0;34m)\u001b[0m\u001b[0;34m\u001b[0m\u001b[0;34m\u001b[0m\u001b[0m\n\u001b[0m\u001b[1;32m    440\u001b[0m \u001b[0;34m\u001b[0m\u001b[0m\n\u001b[1;32m    441\u001b[0m                 \u001b[0;32mif\u001b[0m \u001b[0mself\u001b[0m\u001b[0;34m.\u001b[0m\u001b[0m_state\u001b[0m \u001b[0;32min\u001b[0m \u001b[0;34m[\u001b[0m\u001b[0mCANCELLED\u001b[0m\u001b[0;34m,\u001b[0m \u001b[0mCANCELLED_AND_NOTIFIED\u001b[0m\u001b[0;34m]\u001b[0m\u001b[0;34m:\u001b[0m\u001b[0;34m\u001b[0m\u001b[0;34m\u001b[0m\u001b[0m\n",
            "\u001b[0;32m/usr/lib/python3.8/threading.py\u001b[0m in \u001b[0;36mwait\u001b[0;34m(self, timeout)\u001b[0m\n\u001b[1;32m    300\u001b[0m         \u001b[0;32mtry\u001b[0m\u001b[0;34m:\u001b[0m    \u001b[0;31m# restore state no matter what (e.g., KeyboardInterrupt)\u001b[0m\u001b[0;34m\u001b[0m\u001b[0;34m\u001b[0m\u001b[0m\n\u001b[1;32m    301\u001b[0m             \u001b[0;32mif\u001b[0m \u001b[0mtimeout\u001b[0m \u001b[0;32mis\u001b[0m \u001b[0;32mNone\u001b[0m\u001b[0;34m:\u001b[0m\u001b[0;34m\u001b[0m\u001b[0;34m\u001b[0m\u001b[0m\n\u001b[0;32m--> 302\u001b[0;31m                 \u001b[0mwaiter\u001b[0m\u001b[0;34m.\u001b[0m\u001b[0macquire\u001b[0m\u001b[0;34m(\u001b[0m\u001b[0;34m)\u001b[0m\u001b[0;34m\u001b[0m\u001b[0;34m\u001b[0m\u001b[0m\n\u001b[0m\u001b[1;32m    303\u001b[0m                 \u001b[0mgotit\u001b[0m \u001b[0;34m=\u001b[0m \u001b[0;32mTrue\u001b[0m\u001b[0;34m\u001b[0m\u001b[0;34m\u001b[0m\u001b[0m\n\u001b[1;32m    304\u001b[0m             \u001b[0;32melse\u001b[0m\u001b[0;34m:\u001b[0m\u001b[0;34m\u001b[0m\u001b[0;34m\u001b[0m\u001b[0m\n",
            "\u001b[0;31mKeyboardInterrupt\u001b[0m: "
          ]
        }
      ]
    },
    {
      "cell_type": "code",
      "source": [
        "rf_random.best_params_"
      ],
      "metadata": {
        "id": "109c70QJVqKd"
      },
      "id": "109c70QJVqKd",
      "execution_count": null,
      "outputs": []
    },
    {
      "cell_type": "code",
      "source": [
        "rf = RandomForestClassifier(n_estimators = 1000, min_samples_split = 5, min_samples_leaf = 4, max_features = 'auto', max_depth = 100, bootstrap = True)"
      ],
      "metadata": {
        "id": "jTX6vJ7G-soX"
      },
      "id": "jTX6vJ7G-soX",
      "execution_count": null,
      "outputs": []
    },
    {
      "cell_type": "code",
      "source": [
        "rf.fit(x_train,y_train)"
      ],
      "metadata": {
        "colab": {
          "base_uri": "https://localhost:8080/"
        },
        "id": "pt1FPUgV_FdK",
        "outputId": "a4914fcc-5331-48df-d46e-92a77ffa3eae"
      },
      "id": "pt1FPUgV_FdK",
      "execution_count": null,
      "outputs": [
        {
          "output_type": "execute_result",
          "data": {
            "text/plain": [
              "RandomForestClassifier(max_depth=100, min_samples_leaf=4, min_samples_split=5,\n",
              "                       n_estimators=1000)"
            ]
          },
          "metadata": {},
          "execution_count": 18
        }
      ]
    },
    {
      "cell_type": "code",
      "source": [
        "y_pred = rf.predict(x_test)\n",
        "print('random forest accuracy:', accuracy_score(y_test, y_pred))"
      ],
      "metadata": {
        "colab": {
          "base_uri": "https://localhost:8080/"
        },
        "id": "UVgl0LPv_N4x",
        "outputId": "d90f0a07-4081-4c19-886b-673dff691d8d"
      },
      "id": "UVgl0LPv_N4x",
      "execution_count": null,
      "outputs": [
        {
          "output_type": "stream",
          "name": "stdout",
          "text": [
            "random forest accuracy: 0.8211533104280806\n"
          ]
        }
      ]
    },
    {
      "cell_type": "code",
      "source": [
        "rf_original = RandomForestClassifier()\n",
        "rf_original.fit(x_train,y_train)"
      ],
      "metadata": {
        "colab": {
          "base_uri": "https://localhost:8080/"
        },
        "id": "8Lw3yIZi_pLl",
        "outputId": "5856f948-4d64-4299-cfbe-26df7f8a731b"
      },
      "id": "8Lw3yIZi_pLl",
      "execution_count": null,
      "outputs": [
        {
          "output_type": "execute_result",
          "data": {
            "text/plain": [
              "RandomForestClassifier()"
            ]
          },
          "metadata": {},
          "execution_count": 20
        }
      ]
    },
    {
      "cell_type": "code",
      "source": [
        "y_pred = rf_original.predict(x_test)\n",
        "print('original random forest accuracy:', accuracy_score(y_test, y_pred))"
      ],
      "metadata": {
        "colab": {
          "base_uri": "https://localhost:8080/"
        },
        "id": "sQDnBuP8_32O",
        "outputId": "fbe5b27d-9214-4283-d28d-ef0603d47585"
      },
      "id": "sQDnBuP8_32O",
      "execution_count": null,
      "outputs": [
        {
          "output_type": "stream",
          "name": "stdout",
          "text": [
            "original random forest accuracy: 0.8147460302720773\n"
          ]
        }
      ]
    },
    {
      "cell_type": "code",
      "source": [],
      "metadata": {
        "id": "mpeBoFQm_958"
      },
      "id": "mpeBoFQm_958",
      "execution_count": null,
      "outputs": []
    }
  ],
  "metadata": {
    "kernelspec": {
      "display_name": "Python 3",
      "language": "python",
      "name": "python3"
    },
    "language_info": {
      "codemirror_mode": {
        "name": "ipython",
        "version": 3
      },
      "file_extension": ".py",
      "mimetype": "text/x-python",
      "name": "python",
      "nbconvert_exporter": "python",
      "pygments_lexer": "ipython3",
      "version": "3.7.4"
    },
    "colab": {
      "provenance": []
    }
  },
  "nbformat": 4,
  "nbformat_minor": 5
}